{
 "cells": [
  {
   "cell_type": "code",
   "execution_count": 1,
   "metadata": {},
   "outputs": [],
   "source": [
    "import pandas as pd\n",
    "import numpy as np\n",
    "import matplotlib.pyplot as plt\n",
    "from sklearn.preprocessing import MinMaxScaler\n",
    "from tensorflow.keras.layers import LSTM, Dense\n",
    "from tensorflow.keras.models import Sequential\n",
    "from sklearn.model_selection import KFold\n",
    "from sklearn.metrics import mean_squared_error, r2_score\n",
    "from sklearn.metrics import mean_absolute_error, mean_absolute_percentage_error\n",
    "from seaborn import histplot"
   ]
  },
  {
   "cell_type": "code",
   "execution_count": 3,
   "metadata": {},
   "outputs": [],
   "source": [
    "data = pd.read_csv(r'T:\\toandangquoc\\iuh_project_finals\\data\\data_train_model.csv')\n",
    "data['date'] = pd.to_datetime(data['date'])\n",
    "data.set_index('date', inplace=True)\n",
    "data.fillna(0, inplace=True)"
   ]
  },
  {
   "cell_type": "code",
   "execution_count": 4,
   "metadata": {},
   "outputs": [
    {
     "data": {
      "text/html": [
       "<div>\n",
       "<style scoped>\n",
       "    .dataframe tbody tr th:only-of-type {\n",
       "        vertical-align: middle;\n",
       "    }\n",
       "\n",
       "    .dataframe tbody tr th {\n",
       "        vertical-align: top;\n",
       "    }\n",
       "\n",
       "    .dataframe thead th {\n",
       "        text-align: right;\n",
       "    }\n",
       "</style>\n",
       "<table border=\"1\" class=\"dataframe\">\n",
       "  <thead>\n",
       "    <tr style=\"text-align: right;\">\n",
       "      <th></th>\n",
       "      <th>high</th>\n",
       "      <th>low</th>\n",
       "      <th>open</th>\n",
       "      <th>unix</th>\n",
       "      <th>cum_change</th>\n",
       "      <th>sma_7_up</th>\n",
       "      <th>sma_7</th>\n",
       "      <th>sma_7_low</th>\n",
       "      <th>ema_14</th>\n",
       "      <th>b_ma</th>\n",
       "      <th>bu</th>\n",
       "      <th>bl</th>\n",
       "      <th>cma_7</th>\n",
       "      <th>month</th>\n",
       "      <th>atr</th>\n",
       "      <th>year</th>\n",
       "      <th>ppo</th>\n",
       "      <th>close</th>\n",
       "    </tr>\n",
       "    <tr>\n",
       "      <th>date</th>\n",
       "      <th></th>\n",
       "      <th></th>\n",
       "      <th></th>\n",
       "      <th></th>\n",
       "      <th></th>\n",
       "      <th></th>\n",
       "      <th></th>\n",
       "      <th></th>\n",
       "      <th></th>\n",
       "      <th></th>\n",
       "      <th></th>\n",
       "      <th></th>\n",
       "      <th></th>\n",
       "      <th></th>\n",
       "      <th></th>\n",
       "      <th></th>\n",
       "      <th></th>\n",
       "      <th></th>\n",
       "    </tr>\n",
       "  </thead>\n",
       "  <tbody>\n",
       "    <tr>\n",
       "      <th>2020-01-02</th>\n",
       "      <td>209.789993</td>\n",
       "      <td>206.270004</td>\n",
       "      <td>206.750000</td>\n",
       "      <td>1577923200</td>\n",
       "      <td>0.045198</td>\n",
       "      <td>210.794776</td>\n",
       "      <td>209.779999</td>\n",
       "      <td>207.655221</td>\n",
       "      <td>209.779999</td>\n",
       "      <td>217.042583</td>\n",
       "      <td>227.120132</td>\n",
       "      <td>206.965034</td>\n",
       "      <td>211.514287</td>\n",
       "      <td>1</td>\n",
       "      <td>3.519989</td>\n",
       "      <td>2020</td>\n",
       "      <td>0.000000</td>\n",
       "      <td>209.779999</td>\n",
       "    </tr>\n",
       "    <tr>\n",
       "      <th>2020-01-03</th>\n",
       "      <td>210.399994</td>\n",
       "      <td>206.949997</td>\n",
       "      <td>207.210007</td>\n",
       "      <td>1578009600</td>\n",
       "      <td>0.090156</td>\n",
       "      <td>210.794776</td>\n",
       "      <td>209.224998</td>\n",
       "      <td>207.655221</td>\n",
       "      <td>209.631999</td>\n",
       "      <td>217.042583</td>\n",
       "      <td>227.120132</td>\n",
       "      <td>206.965034</td>\n",
       "      <td>211.514287</td>\n",
       "      <td>1</td>\n",
       "      <td>3.514990</td>\n",
       "      <td>2020</td>\n",
       "      <td>-0.042226</td>\n",
       "      <td>208.669998</td>\n",
       "    </tr>\n",
       "    <tr>\n",
       "      <th>2020-01-04</th>\n",
       "      <td>211.193329</td>\n",
       "      <td>206.806666</td>\n",
       "      <td>207.040003</td>\n",
       "      <td>1578096000</td>\n",
       "      <td>0.135397</td>\n",
       "      <td>210.888098</td>\n",
       "      <td>209.476666</td>\n",
       "      <td>208.065234</td>\n",
       "      <td>209.678399</td>\n",
       "      <td>217.042583</td>\n",
       "      <td>227.120132</td>\n",
       "      <td>206.965034</td>\n",
       "      <td>211.514287</td>\n",
       "      <td>1</td>\n",
       "      <td>3.577252</td>\n",
       "      <td>2020</td>\n",
       "      <td>-0.024991</td>\n",
       "      <td>209.980001</td>\n",
       "    </tr>\n",
       "    <tr>\n",
       "      <th>2020-01-05</th>\n",
       "      <td>211.986664</td>\n",
       "      <td>206.663335</td>\n",
       "      <td>206.870000</td>\n",
       "      <td>1578182400</td>\n",
       "      <td>0.180920</td>\n",
       "      <td>212.078555</td>\n",
       "      <td>209.930000</td>\n",
       "      <td>207.781446</td>\n",
       "      <td>209.893280</td>\n",
       "      <td>217.042583</td>\n",
       "      <td>227.120132</td>\n",
       "      <td>206.965034</td>\n",
       "      <td>211.514287</td>\n",
       "      <td>1</td>\n",
       "      <td>3.701972</td>\n",
       "      <td>2020</td>\n",
       "      <td>0.038602</td>\n",
       "      <td>211.290003</td>\n",
       "    </tr>\n",
       "    <tr>\n",
       "      <th>2020-01-06</th>\n",
       "      <td>212.779999</td>\n",
       "      <td>206.520004</td>\n",
       "      <td>206.699997</td>\n",
       "      <td>1578268800</td>\n",
       "      <td>0.226725</td>\n",
       "      <td>213.491436</td>\n",
       "      <td>210.464001</td>\n",
       "      <td>207.436567</td>\n",
       "      <td>210.254176</td>\n",
       "      <td>217.042583</td>\n",
       "      <td>227.120132</td>\n",
       "      <td>206.965034</td>\n",
       "      <td>211.514287</td>\n",
       "      <td>1</td>\n",
       "      <td>3.884688</td>\n",
       "      <td>2020</td>\n",
       "      <td>0.137642</td>\n",
       "      <td>212.600006</td>\n",
       "    </tr>\n",
       "  </tbody>\n",
       "</table>\n",
       "</div>"
      ],
      "text/plain": [
       "                  high         low        open        unix  cum_change  \\\n",
       "date                                                                     \n",
       "2020-01-02  209.789993  206.270004  206.750000  1577923200    0.045198   \n",
       "2020-01-03  210.399994  206.949997  207.210007  1578009600    0.090156   \n",
       "2020-01-04  211.193329  206.806666  207.040003  1578096000    0.135397   \n",
       "2020-01-05  211.986664  206.663335  206.870000  1578182400    0.180920   \n",
       "2020-01-06  212.779999  206.520004  206.699997  1578268800    0.226725   \n",
       "\n",
       "              sma_7_up       sma_7   sma_7_low      ema_14        b_ma  \\\n",
       "date                                                                     \n",
       "2020-01-02  210.794776  209.779999  207.655221  209.779999  217.042583   \n",
       "2020-01-03  210.794776  209.224998  207.655221  209.631999  217.042583   \n",
       "2020-01-04  210.888098  209.476666  208.065234  209.678399  217.042583   \n",
       "2020-01-05  212.078555  209.930000  207.781446  209.893280  217.042583   \n",
       "2020-01-06  213.491436  210.464001  207.436567  210.254176  217.042583   \n",
       "\n",
       "                    bu          bl       cma_7  month       atr  year  \\\n",
       "date                                                                    \n",
       "2020-01-02  227.120132  206.965034  211.514287      1  3.519989  2020   \n",
       "2020-01-03  227.120132  206.965034  211.514287      1  3.514990  2020   \n",
       "2020-01-04  227.120132  206.965034  211.514287      1  3.577252  2020   \n",
       "2020-01-05  227.120132  206.965034  211.514287      1  3.701972  2020   \n",
       "2020-01-06  227.120132  206.965034  211.514287      1  3.884688  2020   \n",
       "\n",
       "                 ppo       close  \n",
       "date                              \n",
       "2020-01-02  0.000000  209.779999  \n",
       "2020-01-03 -0.042226  208.669998  \n",
       "2020-01-04 -0.024991  209.980001  \n",
       "2020-01-05  0.038602  211.290003  \n",
       "2020-01-06  0.137642  212.600006  "
      ]
     },
     "execution_count": 4,
     "metadata": {},
     "output_type": "execute_result"
    }
   ],
   "source": [
    "data.head()"
   ]
  },
  {
   "cell_type": "code",
   "execution_count": 5,
   "metadata": {},
   "outputs": [],
   "source": [
    "split_ratio=0.8\n",
    "cut_off = int(len(data) * split_ratio)\n",
    "train = data[:cut_off]\n",
    "test = data[cut_off:]"
   ]
  },
  {
   "cell_type": "code",
   "execution_count": 10,
   "metadata": {},
   "outputs": [
    {
     "data": {
      "text/plain": [
       "(1338, 18)"
      ]
     },
     "execution_count": 10,
     "metadata": {},
     "output_type": "execute_result"
    }
   ],
   "source": [
    "train.shape"
   ]
  },
  {
   "cell_type": "code",
   "execution_count": 11,
   "metadata": {},
   "outputs": [
    {
     "data": {
      "text/plain": [
       "(335, 18)"
      ]
     },
     "execution_count": 11,
     "metadata": {},
     "output_type": "execute_result"
    }
   ],
   "source": [
    "test.shape"
   ]
  },
  {
   "cell_type": "code",
   "execution_count": 12,
   "metadata": {},
   "outputs": [
    {
     "data": {
      "text/plain": [
       "array([[0.4060639 , 0.40650801, 0.40010289, ..., 0.        , 0.53746862,\n",
       "        0.4121458 ],\n",
       "       [0.40813965, 0.408847  , 0.40168041, ..., 0.        , 0.53536464,\n",
       "        0.40836089],\n",
       "       [0.41083927, 0.40835398, 0.40109741, ..., 0.        , 0.5362234 ,\n",
       "        0.41282778],\n",
       "       ...,\n",
       "       [0.71014395, 0.68825673, 0.68072699, ..., 1.        , 0.47558276,\n",
       "        0.71292664],\n",
       "       [0.70721754, 0.70631534, 0.71018525, ..., 1.        , 0.48484985,\n",
       "        0.70307229],\n",
       "       [0.71677958, 0.71398599, 0.70548694, ..., 1.        , 0.49378252,\n",
       "        0.70576608]])"
      ]
     },
     "execution_count": 12,
     "metadata": {},
     "output_type": "execute_result"
    }
   ],
   "source": [
    "scaler = MinMaxScaler(feature_range=(0, 1))\n",
    "scaled_train = scaler.fit_transform(train)\n",
    "scaled_train"
   ]
  },
  {
   "cell_type": "code",
   "execution_count": 13,
   "metadata": {},
   "outputs": [],
   "source": [
    "check = scaler.inverse_transform(scaled_train)[:, -1]"
   ]
  },
  {
   "cell_type": "code",
   "execution_count": null,
   "metadata": {},
   "outputs": [
    {
     "data": {
      "text/plain": [
       "array([209.77999878, 208.66999817, 209.98000081, ..., 297.98999023,\n",
       "       295.1000061 , 295.89001465])"
      ]
     },
     "execution_count": 14,
     "metadata": {},
     "output_type": "execute_result"
    }
   ],
   "source": [
    "check"
   ]
  }
 ],
 "metadata": {
  "kernelspec": {
   "display_name": "Python 3",
   "language": "python",
   "name": "python3"
  },
  "language_info": {
   "codemirror_mode": {
    "name": "ipython",
    "version": 3
   },
   "file_extension": ".py",
   "mimetype": "text/x-python",
   "name": "python",
   "nbconvert_exporter": "python",
   "pygments_lexer": "ipython3",
   "version": "3.12.3"
  }
 },
 "nbformat": 4,
 "nbformat_minor": 2
}
