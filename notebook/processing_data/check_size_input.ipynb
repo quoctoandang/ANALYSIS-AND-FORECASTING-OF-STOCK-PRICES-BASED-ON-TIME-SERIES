{
 "cells": [
  {
   "cell_type": "code",
   "execution_count": 1,
   "metadata": {},
   "outputs": [],
   "source": [
    "import pandas as pd\n",
    "import numpy as np\n",
    "import matplotlib.pyplot as plt"
   ]
  },
  {
   "cell_type": "code",
   "execution_count": 2,
   "metadata": {},
   "outputs": [],
   "source": [
    "path = r'T:\\toandangquoc\\iuh_project_finals\\data\\data_train_model.csv'"
   ]
  },
  {
   "cell_type": "code",
   "execution_count": 10,
   "metadata": {},
   "outputs": [
    {
     "data": {
      "text/html": [
       "<div>\n",
       "<style scoped>\n",
       "    .dataframe tbody tr th:only-of-type {\n",
       "        vertical-align: middle;\n",
       "    }\n",
       "\n",
       "    .dataframe tbody tr th {\n",
       "        vertical-align: top;\n",
       "    }\n",
       "\n",
       "    .dataframe thead th {\n",
       "        text-align: right;\n",
       "    }\n",
       "</style>\n",
       "<table border=\"1\" class=\"dataframe\">\n",
       "  <thead>\n",
       "    <tr style=\"text-align: right;\">\n",
       "      <th></th>\n",
       "      <th>high</th>\n",
       "      <th>low</th>\n",
       "      <th>open</th>\n",
       "      <th>unix</th>\n",
       "      <th>cum_change</th>\n",
       "      <th>sma_7_up</th>\n",
       "      <th>sma_7</th>\n",
       "      <th>sma_7_low</th>\n",
       "      <th>ema_14</th>\n",
       "      <th>b_ma</th>\n",
       "      <th>bu</th>\n",
       "      <th>bl</th>\n",
       "      <th>cma_7</th>\n",
       "      <th>month</th>\n",
       "      <th>atr</th>\n",
       "      <th>year</th>\n",
       "      <th>ppo</th>\n",
       "      <th>close</th>\n",
       "    </tr>\n",
       "    <tr>\n",
       "      <th>date</th>\n",
       "      <th></th>\n",
       "      <th></th>\n",
       "      <th></th>\n",
       "      <th></th>\n",
       "      <th></th>\n",
       "      <th></th>\n",
       "      <th></th>\n",
       "      <th></th>\n",
       "      <th></th>\n",
       "      <th></th>\n",
       "      <th></th>\n",
       "      <th></th>\n",
       "      <th></th>\n",
       "      <th></th>\n",
       "      <th></th>\n",
       "      <th></th>\n",
       "      <th></th>\n",
       "      <th></th>\n",
       "    </tr>\n",
       "  </thead>\n",
       "  <tbody>\n",
       "    <tr>\n",
       "      <th>2020-01-02</th>\n",
       "      <td>209.789993</td>\n",
       "      <td>206.270004</td>\n",
       "      <td>206.750000</td>\n",
       "      <td>1577923200</td>\n",
       "      <td>0.045198</td>\n",
       "      <td>210.794776</td>\n",
       "      <td>209.779999</td>\n",
       "      <td>207.655221</td>\n",
       "      <td>209.779999</td>\n",
       "      <td>217.042583</td>\n",
       "      <td>227.120132</td>\n",
       "      <td>206.965034</td>\n",
       "      <td>211.514287</td>\n",
       "      <td>1</td>\n",
       "      <td>3.519989</td>\n",
       "      <td>2020</td>\n",
       "      <td>0.000000</td>\n",
       "      <td>209.779999</td>\n",
       "    </tr>\n",
       "    <tr>\n",
       "      <th>2020-01-03</th>\n",
       "      <td>210.399994</td>\n",
       "      <td>206.949997</td>\n",
       "      <td>207.210007</td>\n",
       "      <td>1578009600</td>\n",
       "      <td>0.090156</td>\n",
       "      <td>210.794776</td>\n",
       "      <td>209.224998</td>\n",
       "      <td>207.655221</td>\n",
       "      <td>209.631999</td>\n",
       "      <td>217.042583</td>\n",
       "      <td>227.120132</td>\n",
       "      <td>206.965034</td>\n",
       "      <td>211.514287</td>\n",
       "      <td>1</td>\n",
       "      <td>3.514990</td>\n",
       "      <td>2020</td>\n",
       "      <td>-0.042226</td>\n",
       "      <td>208.669998</td>\n",
       "    </tr>\n",
       "    <tr>\n",
       "      <th>2020-01-04</th>\n",
       "      <td>211.193329</td>\n",
       "      <td>206.806666</td>\n",
       "      <td>207.040003</td>\n",
       "      <td>1578096000</td>\n",
       "      <td>0.135397</td>\n",
       "      <td>210.888098</td>\n",
       "      <td>209.476666</td>\n",
       "      <td>208.065234</td>\n",
       "      <td>209.678399</td>\n",
       "      <td>217.042583</td>\n",
       "      <td>227.120132</td>\n",
       "      <td>206.965034</td>\n",
       "      <td>211.514287</td>\n",
       "      <td>1</td>\n",
       "      <td>3.577252</td>\n",
       "      <td>2020</td>\n",
       "      <td>-0.024991</td>\n",
       "      <td>209.980001</td>\n",
       "    </tr>\n",
       "    <tr>\n",
       "      <th>2020-01-05</th>\n",
       "      <td>211.986664</td>\n",
       "      <td>206.663335</td>\n",
       "      <td>206.870000</td>\n",
       "      <td>1578182400</td>\n",
       "      <td>0.180920</td>\n",
       "      <td>212.078555</td>\n",
       "      <td>209.930000</td>\n",
       "      <td>207.781446</td>\n",
       "      <td>209.893280</td>\n",
       "      <td>217.042583</td>\n",
       "      <td>227.120132</td>\n",
       "      <td>206.965034</td>\n",
       "      <td>211.514287</td>\n",
       "      <td>1</td>\n",
       "      <td>3.701972</td>\n",
       "      <td>2020</td>\n",
       "      <td>0.038602</td>\n",
       "      <td>211.290003</td>\n",
       "    </tr>\n",
       "    <tr>\n",
       "      <th>2020-01-06</th>\n",
       "      <td>212.779999</td>\n",
       "      <td>206.520004</td>\n",
       "      <td>206.699997</td>\n",
       "      <td>1578268800</td>\n",
       "      <td>0.226725</td>\n",
       "      <td>213.491436</td>\n",
       "      <td>210.464001</td>\n",
       "      <td>207.436567</td>\n",
       "      <td>210.254176</td>\n",
       "      <td>217.042583</td>\n",
       "      <td>227.120132</td>\n",
       "      <td>206.965034</td>\n",
       "      <td>211.514287</td>\n",
       "      <td>1</td>\n",
       "      <td>3.884688</td>\n",
       "      <td>2020</td>\n",
       "      <td>0.137642</td>\n",
       "      <td>212.600006</td>\n",
       "    </tr>\n",
       "  </tbody>\n",
       "</table>\n",
       "</div>"
      ],
      "text/plain": [
       "                  high         low        open        unix  cum_change  \\\n",
       "date                                                                     \n",
       "2020-01-02  209.789993  206.270004  206.750000  1577923200    0.045198   \n",
       "2020-01-03  210.399994  206.949997  207.210007  1578009600    0.090156   \n",
       "2020-01-04  211.193329  206.806666  207.040003  1578096000    0.135397   \n",
       "2020-01-05  211.986664  206.663335  206.870000  1578182400    0.180920   \n",
       "2020-01-06  212.779999  206.520004  206.699997  1578268800    0.226725   \n",
       "\n",
       "              sma_7_up       sma_7   sma_7_low      ema_14        b_ma  \\\n",
       "date                                                                     \n",
       "2020-01-02  210.794776  209.779999  207.655221  209.779999  217.042583   \n",
       "2020-01-03  210.794776  209.224998  207.655221  209.631999  217.042583   \n",
       "2020-01-04  210.888098  209.476666  208.065234  209.678399  217.042583   \n",
       "2020-01-05  212.078555  209.930000  207.781446  209.893280  217.042583   \n",
       "2020-01-06  213.491436  210.464001  207.436567  210.254176  217.042583   \n",
       "\n",
       "                    bu          bl       cma_7  month       atr  year  \\\n",
       "date                                                                    \n",
       "2020-01-02  227.120132  206.965034  211.514287      1  3.519989  2020   \n",
       "2020-01-03  227.120132  206.965034  211.514287      1  3.514990  2020   \n",
       "2020-01-04  227.120132  206.965034  211.514287      1  3.577252  2020   \n",
       "2020-01-05  227.120132  206.965034  211.514287      1  3.701972  2020   \n",
       "2020-01-06  227.120132  206.965034  211.514287      1  3.884688  2020   \n",
       "\n",
       "                 ppo       close  \n",
       "date                              \n",
       "2020-01-02  0.000000  209.779999  \n",
       "2020-01-03 -0.042226  208.669998  \n",
       "2020-01-04 -0.024991  209.980001  \n",
       "2020-01-05  0.038602  211.290003  \n",
       "2020-01-06  0.137642  212.600006  "
      ]
     },
     "execution_count": 10,
     "metadata": {},
     "output_type": "execute_result"
    }
   ],
   "source": [
    "df = pd.read_csv(path)\n",
    "df['date'] = pd.to_datetime(df['date'])\n",
    "df.set_index('date', inplace=True)\n",
    "df.head()"
   ]
  },
  {
   "cell_type": "markdown",
   "metadata": {},
   "source": [
    "### ***Sarimax***"
   ]
  },
  {
   "cell_type": "code",
   "execution_count": 11,
   "metadata": {},
   "outputs": [
    {
     "name": "stdout",
     "output_type": "stream",
     "text": [
      "Kích thước của X_train:  (1338, 17)\n",
      "Kích thước của y_train:  (1338,)\n",
      "Kích thước của X_test:  (335, 17)\n",
      "Kích thước của y_test:  (335,)\n"
     ]
    }
   ],
   "source": [
    "split_ratio = 0.8\n",
    "cut_off = int(len(df) * split_ratio)\n",
    "train = df[:cut_off]\n",
    "test = df[cut_off:]\n",
    "X_train = train.drop(['close'], axis=1)\n",
    "X_test = test.drop(['close'], axis=1)\n",
    "y_train = train['close']\n",
    "y_test = test['close']\n",
    "print(\"Kích thước của X_train: \", X_train.shape)\n",
    "print(\"Kích thước của y_train: \", y_train.shape)\n",
    "print(\"Kích thước của X_test: \", X_test.shape)\n",
    "print(\"Kích thước của y_test: \", y_test.shape)"
   ]
  },
  {
   "cell_type": "markdown",
   "metadata": {},
   "source": [
    "### ***LSTM***"
   ]
  },
  {
   "cell_type": "code",
   "execution_count": 12,
   "metadata": {},
   "outputs": [],
   "source": [
    "from sklearn.preprocessing import MinMaxScaler"
   ]
  },
  {
   "cell_type": "code",
   "execution_count": 13,
   "metadata": {},
   "outputs": [],
   "source": [
    "split_ratio=0.8\n",
    "cut_off = int(len(df) * split_ratio)\n",
    "train = df[:cut_off]\n",
    "test = df[cut_off:]\n",
    "scaler = MinMaxScaler(feature_range=(0, 1))"
   ]
  },
  {
   "cell_type": "code",
   "execution_count": 14,
   "metadata": {},
   "outputs": [
    {
     "name": "stdout",
     "output_type": "stream",
     "text": [
      "Train shape: (1338, 18)\n",
      "Test shape: (335, 18)\n",
      "X_train shape : (1288, 50, 18)\n",
      "y_train shape : (1288, 1)\n",
      "X_test shape : (285, 50, 18)\n",
      "y_test shape : (285, 1)\n"
     ]
    }
   ],
   "source": [
    "scaled_train = scaler.fit_transform(train)\n",
    "print('Train shape:', scaled_train.shape)\n",
    "scaled_test = scaler.fit_transform(test)\n",
    "print('Test shape:', scaled_test.shape)\n",
    "X_train = []\n",
    "y_train = []\n",
    "X_test = []\n",
    "y_test = []\n",
    "test_length = len(df) - cut_off\n",
    "prediction_step = 50\n",
    "for i in range(prediction_step, cut_off):\n",
    "    X_train.append(scaled_train[i - prediction_step:i, 0:scaled_train.shape[1]])\n",
    "    y_train.append(scaled_train[i, -1])\n",
    "X_train, y_train = np.array(X_train), np.array(y_train)\n",
    "y_train = np.reshape(y_train, (y_train.shape[0], 1))\n",
    "print('X_train shape :', X_train.shape)\n",
    "print('y_train shape :', y_train.shape)\n",
    "\n",
    "for i in range(prediction_step, test_length):\n",
    "    X_test.append(scaled_test[i - prediction_step:i, 0:scaled_test.shape[1]])\n",
    "    y_test.append(scaled_test[i, -1])\n",
    "X_test, y_test = np.array(X_test), np.array(y_test)\n",
    "y_test = np.reshape(y_test, (-1, 1))\n",
    "        \n",
    "print('X_test shape :', X_test.shape)\n",
    "print('y_test shape :', y_test.shape)"
   ]
  },
  {
   "cell_type": "markdown",
   "metadata": {},
   "source": [
    "### ***Xgboots***"
   ]
  },
  {
   "cell_type": "code",
   "execution_count": 15,
   "metadata": {},
   "outputs": [
    {
     "name": "stdout",
     "output_type": "stream",
     "text": [
      "X_train shape : (1338, 17)\n",
      "y_train shape : (1338, 1)\n",
      "X_test shape : (335, 17)\n",
      "y_test shape : (335, 1)\n"
     ]
    }
   ],
   "source": [
    "cut_off = int(len(df) * split_ratio)\n",
    "train = df[:cut_off]\n",
    "test = df[cut_off:]\n",
    "train_scale = scaler.fit_transform(train)\n",
    "test_scale = scaler.fit_transform(test)\n",
    "X = df.iloc[:, :-1]\n",
    "y = df['close']\n",
    "X_train, y_train = train_scale[:, :-1], train_scale[:, -1].reshape(-1, 1)\n",
    "X_test, y_test = test_scale[:, :-1], test_scale[:, -1].reshape(-1, 1)\n",
    "print('X_train shape :', X_train.shape)\n",
    "print('y_train shape :', y_train.shape)      \n",
    "print('X_test shape :', X_test.shape)\n",
    "print('y_test shape :', y_test.shape)"
   ]
  },
  {
   "cell_type": "markdown",
   "metadata": {},
   "source": [
    "### ***RandomForest***"
   ]
  },
  {
   "cell_type": "code",
   "execution_count": 16,
   "metadata": {},
   "outputs": [],
   "source": [
    "def prepare_sequences( data, prediction_step=50):\n",
    "        \"\"\"Prepare sequential input for time series prediction.\"\"\"\n",
    "        X, y = [], []\n",
    "        for i in range(prediction_step, len(data)):\n",
    "            X.append(data.iloc[i-prediction_step:i].values.flatten())\n",
    "            y.append(data.iloc[i]['close'])\n",
    "        return np.array(X), np.array(y)"
   ]
  },
  {
   "cell_type": "code",
   "execution_count": 17,
   "metadata": {},
   "outputs": [],
   "source": [
    "from sklearn.model_selection import train_test_split"
   ]
  },
  {
   "cell_type": "code",
   "execution_count": 18,
   "metadata": {},
   "outputs": [
    {
     "name": "stdout",
     "output_type": "stream",
     "text": [
      "X_train shape: (1298, 900)\n",
      "X_test shape: (325, 900)\n",
      "y_train shape: (1298,)\n",
      "y_test shape: (325,)\n"
     ]
    }
   ],
   "source": [
    "X, y = prepare_sequences(df)\n",
    "        \n",
    "# Split the data\n",
    "X_train, X_test, y_train, y_test = train_test_split(\n",
    "            X, y, train_size=split_ratio, shuffle=False\n",
    ")\n",
    "        \n",
    "        # Scale the data\n",
    "X_train_scaled = scaler.fit_transform(X_train)\n",
    "X_test_scaled = scaler.transform(X_test)\n",
    "        \n",
    "print('X_train shape:', X_train_scaled.shape)\n",
    "print('X_test shape:', X_test_scaled.shape)\n",
    "print('y_train shape:', y_train.shape)\n",
    "print('y_test shape:', y_test.shape)"
   ]
  },
  {
   "cell_type": "code",
   "execution_count": null,
   "metadata": {},
   "outputs": [],
   "source": []
  }
 ],
 "metadata": {
  "kernelspec": {
   "display_name": "Python 3",
   "language": "python",
   "name": "python3"
  },
  "language_info": {
   "codemirror_mode": {
    "name": "ipython",
    "version": 3
   },
   "file_extension": ".py",
   "mimetype": "text/x-python",
   "name": "python",
   "nbconvert_exporter": "python",
   "pygments_lexer": "ipython3",
   "version": "3.12.3"
  }
 },
 "nbformat": 4,
 "nbformat_minor": 2
}
