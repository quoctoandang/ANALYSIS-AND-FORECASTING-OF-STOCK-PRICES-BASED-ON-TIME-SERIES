{
 "cells": [
  {
   "cell_type": "code",
   "execution_count": 1,
   "metadata": {},
   "outputs": [],
   "source": [
    "import pandas as pd\n",
    "import re\n",
    "import requests\n",
    "import config as cfg\n",
    "import os\n",
    "from langchain_community.llms import DeepInfra\n",
    "from langchain.prompts import PromptTemplate\n",
    "from langchain.chains import LLMChain"
   ]
  },
  {
   "cell_type": "code",
   "execution_count": 3,
   "metadata": {},
   "outputs": [
    {
     "data": {
      "text/html": [
       "<div>\n",
       "<style scoped>\n",
       "    .dataframe tbody tr th:only-of-type {\n",
       "        vertical-align: middle;\n",
       "    }\n",
       "\n",
       "    .dataframe tbody tr th {\n",
       "        vertical-align: top;\n",
       "    }\n",
       "\n",
       "    .dataframe thead th {\n",
       "        text-align: right;\n",
       "    }\n",
       "</style>\n",
       "<table border=\"1\" class=\"dataframe\">\n",
       "  <thead>\n",
       "    <tr style=\"text-align: right;\">\n",
       "      <th></th>\n",
       "      <th>Unnamed: 0</th>\n",
       "      <th>date</th>\n",
       "      <th>title</th>\n",
       "      <th>content</th>\n",
       "      <th>link</th>\n",
       "      <th>symbols</th>\n",
       "      <th>tags</th>\n",
       "      <th>sentiment</th>\n",
       "    </tr>\n",
       "  </thead>\n",
       "  <tbody>\n",
       "    <tr>\n",
       "      <th>0</th>\n",
       "      <td>0</td>\n",
       "      <td>2024-08-01</td>\n",
       "      <td>The Top 3 EV Charging Stocks to Buy Now: Summe...</td>\n",
       "      <td>For many years, the electric vehicle (EV) indu...</td>\n",
       "      <td>https://finance.yahoo.com/news/top-3-ev-chargi...</td>\n",
       "      <td>['0Y3K.LSE', '3EC.F', '3EC.MU', 'AMZN.US', 'E1...</td>\n",
       "      <td>[]</td>\n",
       "      <td>{'polarity': 0.998, 'neg': 0.013, 'neu': 0.887...</td>\n",
       "    </tr>\n",
       "    <tr>\n",
       "      <th>1</th>\n",
       "      <td>14</td>\n",
       "      <td>2024-07-31</td>\n",
       "      <td>Breaking Down the Q2 Earnings Season Scorecard</td>\n",
       "      <td>Note: The following is an excerpt from this we...</td>\n",
       "      <td>https://finance.yahoo.com/news/breaking-down-q...</td>\n",
       "      <td>['0QYP.IL', '0RIH.IL', '1GOOG.MI', '1GOOGL.MI'...</td>\n",
       "      <td>[]</td>\n",
       "      <td>{'polarity': 0.998, 'neg': 0.036, 'neu': 0.846...</td>\n",
       "    </tr>\n",
       "    <tr>\n",
       "      <th>2</th>\n",
       "      <td>42</td>\n",
       "      <td>2024-07-30</td>\n",
       "      <td>Tesla in Seattle-area crash that killed motorc...</td>\n",
       "      <td>DETROIT (AP) — Authorities in Washington have ...</td>\n",
       "      <td>https://finance.yahoo.com/news/tesla-seattle-a...</td>\n",
       "      <td>['1TSLA.MI', 'TL0.BE', 'TL0.F', 'TL0.XETRA', '...</td>\n",
       "      <td>[]</td>\n",
       "      <td>{'polarity': -0.92, 'neg': 0.081, 'neu': 0.878...</td>\n",
       "    </tr>\n",
       "    <tr>\n",
       "      <th>3</th>\n",
       "      <td>63</td>\n",
       "      <td>2024-07-29</td>\n",
       "      <td>Analyst had to intervene to keep Tesla's Full ...</td>\n",
       "      <td>A financial analyst who heeded Tesla CEO Elon ...</td>\n",
       "      <td>https://finance.yahoo.com/news/analyst-had-int...</td>\n",
       "      <td>['1TSLA.MI', 'TL0.BE', 'TL0.F', 'TL0.XETRA', '...</td>\n",
       "      <td>[]</td>\n",
       "      <td>{'polarity': 0.954, 'neg': 0.048, 'neu': 0.875...</td>\n",
       "    </tr>\n",
       "    <tr>\n",
       "      <th>4</th>\n",
       "      <td>87</td>\n",
       "      <td>2024-07-28</td>\n",
       "      <td>Grimes’s mother says Elon Musk is ‘withholding...</td>\n",
       "      <td>Sandy Garossino, the mother of Grimes, said in...</td>\n",
       "      <td>https://finance.yahoo.com/news/grimes-mother-s...</td>\n",
       "      <td>['1TSLA.MI', 'TL0.F', 'TL0.XETRA', 'TL01.F', '...</td>\n",
       "      <td>[]</td>\n",
       "      <td>{'polarity': 0.818, 'neg': 0.081, 'neu': 0.834...</td>\n",
       "    </tr>\n",
       "  </tbody>\n",
       "</table>\n",
       "</div>"
      ],
      "text/plain": [
       "   Unnamed: 0        date                                              title  \\\n",
       "0           0  2024-08-01  The Top 3 EV Charging Stocks to Buy Now: Summe...   \n",
       "1          14  2024-07-31     Breaking Down the Q2 Earnings Season Scorecard   \n",
       "2          42  2024-07-30  Tesla in Seattle-area crash that killed motorc...   \n",
       "3          63  2024-07-29  Analyst had to intervene to keep Tesla's Full ...   \n",
       "4          87  2024-07-28  Grimes’s mother says Elon Musk is ‘withholding...   \n",
       "\n",
       "                                             content  \\\n",
       "0  For many years, the electric vehicle (EV) indu...   \n",
       "1  Note: The following is an excerpt from this we...   \n",
       "2  DETROIT (AP) — Authorities in Washington have ...   \n",
       "3  A financial analyst who heeded Tesla CEO Elon ...   \n",
       "4  Sandy Garossino, the mother of Grimes, said in...   \n",
       "\n",
       "                                                link  \\\n",
       "0  https://finance.yahoo.com/news/top-3-ev-chargi...   \n",
       "1  https://finance.yahoo.com/news/breaking-down-q...   \n",
       "2  https://finance.yahoo.com/news/tesla-seattle-a...   \n",
       "3  https://finance.yahoo.com/news/analyst-had-int...   \n",
       "4  https://finance.yahoo.com/news/grimes-mother-s...   \n",
       "\n",
       "                                             symbols tags  \\\n",
       "0  ['0Y3K.LSE', '3EC.F', '3EC.MU', 'AMZN.US', 'E1...   []   \n",
       "1  ['0QYP.IL', '0RIH.IL', '1GOOG.MI', '1GOOGL.MI'...   []   \n",
       "2  ['1TSLA.MI', 'TL0.BE', 'TL0.F', 'TL0.XETRA', '...   []   \n",
       "3  ['1TSLA.MI', 'TL0.BE', 'TL0.F', 'TL0.XETRA', '...   []   \n",
       "4  ['1TSLA.MI', 'TL0.F', 'TL0.XETRA', 'TL01.F', '...   []   \n",
       "\n",
       "                                           sentiment  \n",
       "0  {'polarity': 0.998, 'neg': 0.013, 'neu': 0.887...  \n",
       "1  {'polarity': 0.998, 'neg': 0.036, 'neu': 0.846...  \n",
       "2  {'polarity': -0.92, 'neg': 0.081, 'neu': 0.878...  \n",
       "3  {'polarity': 0.954, 'neg': 0.048, 'neu': 0.875...  \n",
       "4  {'polarity': 0.818, 'neg': 0.081, 'neu': 0.834...  "
      ]
     },
     "execution_count": 3,
     "metadata": {},
     "output_type": "execute_result"
    }
   ],
   "source": [
    "df = pd.read_csv('../data/TSLA_US_sentiment.csv')\n",
    "df.head()"
   ]
  },
  {
   "cell_type": "code",
   "execution_count": 3,
   "metadata": {},
   "outputs": [],
   "source": [
    "# funtion to clean the textual data\n",
    "def clean_text(text):\n",
    "    cleaned_text = re.sub(r'\\s+', ' ', text)\n",
    "    return cleaned_text.strip()\n",
    "\n",
    "# Apply the replacement function to the entire column\n",
    "df['content'] = df['content'].apply(clean_text)"
   ]
  },
  {
   "cell_type": "code",
   "execution_count": 4,
   "metadata": {},
   "outputs": [
    {
     "data": {
      "text/html": [
       "<div>\n",
       "<style scoped>\n",
       "    .dataframe tbody tr th:only-of-type {\n",
       "        vertical-align: middle;\n",
       "    }\n",
       "\n",
       "    .dataframe tbody tr th {\n",
       "        vertical-align: top;\n",
       "    }\n",
       "\n",
       "    .dataframe thead th {\n",
       "        text-align: right;\n",
       "    }\n",
       "</style>\n",
       "<table border=\"1\" class=\"dataframe\">\n",
       "  <thead>\n",
       "    <tr style=\"text-align: right;\">\n",
       "      <th></th>\n",
       "      <th>Unnamed: 0</th>\n",
       "      <th>date</th>\n",
       "      <th>title</th>\n",
       "      <th>content</th>\n",
       "      <th>link</th>\n",
       "      <th>symbols</th>\n",
       "      <th>tags</th>\n",
       "      <th>sentiment</th>\n",
       "    </tr>\n",
       "  </thead>\n",
       "  <tbody>\n",
       "    <tr>\n",
       "      <th>0</th>\n",
       "      <td>0</td>\n",
       "      <td>2024-01-01</td>\n",
       "      <td>7 Megatrend Stocks to Buy for a Mighty Start t...</td>\n",
       "      <td>2024 promises to be a lucrative year in the st...</td>\n",
       "      <td>https://finance.yahoo.com/news/7-megatrend-sto...</td>\n",
       "      <td>['AAPL.US', 'ACHR.US', 'AMD.US', 'DAL.MX', 'DA...</td>\n",
       "      <td>[]</td>\n",
       "      <td>{'polarity': 1, 'neg': 0.025, 'neu': 0.844, 'p...</td>\n",
       "    </tr>\n",
       "    <tr>\n",
       "      <th>1</th>\n",
       "      <td>7</td>\n",
       "      <td>2023-12-30</td>\n",
       "      <td>The Top 7 Stocks to Buy Before They Take Off N...</td>\n",
       "      <td>As we put 2023 to bed, it is the right time to...</td>\n",
       "      <td>https://finance.yahoo.com/news/top-7-stocks-bu...</td>\n",
       "      <td>['3V64.F', '3V64.XETRA', '7DG.F', 'AAPL.US', '...</td>\n",
       "      <td>[]</td>\n",
       "      <td>{'polarity': 1, 'neg': 0.03, 'neu': 0.784, 'po...</td>\n",
       "    </tr>\n",
       "    <tr>\n",
       "      <th>2</th>\n",
       "      <td>8</td>\n",
       "      <td>2023-12-29</td>\n",
       "      <td>Top 7 Semiconductor Stock Picks for the New Year</td>\n",
       "      <td>As you look at semiconductor stock picks for 2...</td>\n",
       "      <td>https://finance.yahoo.com/news/top-7-semicondu...</td>\n",
       "      <td>['2330.TW', 'AMAT.MX', 'AMAT.US', 'AMD.US', 'A...</td>\n",
       "      <td>[]</td>\n",
       "      <td>{'polarity': 0.999, 'neg': 0.011, 'neu': 0.902...</td>\n",
       "    </tr>\n",
       "    <tr>\n",
       "      <th>3</th>\n",
       "      <td>12</td>\n",
       "      <td>2023-12-28</td>\n",
       "      <td>Cloud Computing Kings: 7 Stocks Dominating the...</td>\n",
       "      <td>Cloud computing has changed how businesses sto...</td>\n",
       "      <td>https://finance.yahoo.com/news/cloud-computing...</td>\n",
       "      <td>['4S0.F', 'AAPL.US', 'DDOG.US', 'DOCN.US', 'ME...</td>\n",
       "      <td>[]</td>\n",
       "      <td>{'polarity': 1, 'neg': 0.025, 'neu': 0.823, 'p...</td>\n",
       "    </tr>\n",
       "    <tr>\n",
       "      <th>4</th>\n",
       "      <td>17</td>\n",
       "      <td>2023-12-27</td>\n",
       "      <td>Apple: The Valuation Quandary</td>\n",
       "      <td>Apple Inc. (NASDAQ:AAPL) is in a league of its...</td>\n",
       "      <td>https://finance.yahoo.com/news/apple-valuation...</td>\n",
       "      <td>['AAPL.MX', 'AAPL.US', 'AAPL34.SA', 'APC.F', '...</td>\n",
       "      <td>[]</td>\n",
       "      <td>{'polarity': 0.999, 'neg': 0.046, 'neu': 0.796...</td>\n",
       "    </tr>\n",
       "  </tbody>\n",
       "</table>\n",
       "</div>"
      ],
      "text/plain": [
       "   Unnamed: 0        date                                              title  \\\n",
       "0           0  2024-01-01  7 Megatrend Stocks to Buy for a Mighty Start t...   \n",
       "1           7  2023-12-30  The Top 7 Stocks to Buy Before They Take Off N...   \n",
       "2           8  2023-12-29   Top 7 Semiconductor Stock Picks for the New Year   \n",
       "3          12  2023-12-28  Cloud Computing Kings: 7 Stocks Dominating the...   \n",
       "4          17  2023-12-27                      Apple: The Valuation Quandary   \n",
       "\n",
       "                                             content  \\\n",
       "0  2024 promises to be a lucrative year in the st...   \n",
       "1  As we put 2023 to bed, it is the right time to...   \n",
       "2  As you look at semiconductor stock picks for 2...   \n",
       "3  Cloud computing has changed how businesses sto...   \n",
       "4  Apple Inc. (NASDAQ:AAPL) is in a league of its...   \n",
       "\n",
       "                                                link  \\\n",
       "0  https://finance.yahoo.com/news/7-megatrend-sto...   \n",
       "1  https://finance.yahoo.com/news/top-7-stocks-bu...   \n",
       "2  https://finance.yahoo.com/news/top-7-semicondu...   \n",
       "3  https://finance.yahoo.com/news/cloud-computing...   \n",
       "4  https://finance.yahoo.com/news/apple-valuation...   \n",
       "\n",
       "                                             symbols tags  \\\n",
       "0  ['AAPL.US', 'ACHR.US', 'AMD.US', 'DAL.MX', 'DA...   []   \n",
       "1  ['3V64.F', '3V64.XETRA', '7DG.F', 'AAPL.US', '...   []   \n",
       "2  ['2330.TW', 'AMAT.MX', 'AMAT.US', 'AMD.US', 'A...   []   \n",
       "3  ['4S0.F', 'AAPL.US', 'DDOG.US', 'DOCN.US', 'ME...   []   \n",
       "4  ['AAPL.MX', 'AAPL.US', 'AAPL34.SA', 'APC.F', '...   []   \n",
       "\n",
       "                                           sentiment  \n",
       "0  {'polarity': 1, 'neg': 0.025, 'neu': 0.844, 'p...  \n",
       "1  {'polarity': 1, 'neg': 0.03, 'neu': 0.784, 'po...  \n",
       "2  {'polarity': 0.999, 'neg': 0.011, 'neu': 0.902...  \n",
       "3  {'polarity': 1, 'neg': 0.025, 'neu': 0.823, 'p...  \n",
       "4  {'polarity': 0.999, 'neg': 0.046, 'neu': 0.796...  "
      ]
     },
     "execution_count": 4,
     "metadata": {},
     "output_type": "execute_result"
    }
   ],
   "source": [
    "df.head()"
   ]
  },
  {
   "cell_type": "code",
   "execution_count": 4,
   "metadata": {},
   "outputs": [],
   "source": [
    "os.environ[\"DEEPINFRA_API_TOKEN\"] = '2phhruk8hlRT5fuPHVsQMfhnOIQ9bBpZ'\n",
    "llm = DeepInfra(model_id=\"meta-llama/Meta-Llama-3-8B-Instruct\")\n",
    "llm.model_kwargs = {\n",
    "    \"temperature\": 0.7,\n",
    "    \"repetition_penalty\": 1.2,\n",
    "    \"max_new_tokens\": 250,\n",
    "    \"top_p\": 0.9,\n",
    "}"
   ]
  },
  {
   "cell_type": "code",
   "execution_count": 5,
   "metadata": {},
   "outputs": [
    {
     "name": "stderr",
     "output_type": "stream",
     "text": [
      "C:\\Users\\DANG QUOC TOAN\\AppData\\Local\\Temp\\ipykernel_8528\\3576358239.py:13: LangChainDeprecationWarning: The class `LLMChain` was deprecated in LangChain 0.1.17 and will be removed in 1.0. Use :meth:`~RunnableSequence, e.g., `prompt | llm`` instead.\n",
      "  llm_chain = LLMChain(prompt = prompt, llm = llm)\n"
     ]
    }
   ],
   "source": [
    "template=\"\"\"\n",
    "Identify the sentiment towards the Facebook(META) stocks of the news article from -10 to +10 where -10 being the most negative and +10 being the most positve , and 0 being neutral\n",
    "\n",
    "GIVE ANSWER IN ONLY ONE WORD AND THAT SHOULD BE THE SCORE\n",
    "\n",
    "SENTIMENT SCORE : +8\n",
    "\n",
    "Article : {statement}\n",
    "\"\"\"\n",
    "\n",
    "# forming prompt using Langchain PromptTemplate functionality\n",
    "prompt = PromptTemplate(template = template, input_variables = [\"statement\"])\n",
    "llm_chain = LLMChain(prompt = prompt, llm = llm)"
   ]
  },
  {
   "cell_type": "code",
   "execution_count": 6,
   "metadata": {},
   "outputs": [
    {
     "name": "stdout",
     "output_type": "stream",
     "text": [
      "Note: The following is an excerpt from this week’s Earnings Trends report. You can access the full report that contains detailed historical actual and estimates for the current and following periods, please click here>>> Here are the key points: For the 285 S&P 500 companies that have reported Q2 results, or 54.3% of the index’s total membership, total earnings are up +9.8% from the same period last year on +4.8% higher revenues, with 80.7% beating EPS estimates and 59.6% beating revenue estimates. Except for the revenue beats percentage, which at 59.6% is near the lowest for this group of 285 index members over the preceding 20-quarter period, all of the other performance metrics are tracking better relative to what we have seen in other recent periods. Looking at Q2 as a whole, total earnings for the index are expected to be up +9.0% from the same period last year on +5.3% higher revenues. This will be the highest earnings growth pace since the +10% earnings growth rate in the first quarter of 2022. Q2 earnings for the ‘Magnificent 7’ companies are expected to be up +27.6% from the same period last year on +13.9% higher revenues. Excluding the ‘Mag 7’, Q2 earnings growth for the rest of the index drops to +5.1% (from +9.0%). Microsoft MSFT, Alphabet GOOG, and Tesla TSLA kicked off the Q2 reporting cycle for the ‘Magnificent 7’ stocks, with the market unimpressed with either of the reports. This contrasted with the companies’ Q1 releases when Alphabet and Tesla were up big on the quarterly results while Microsoft was only modestly down. There is no surprise in the Tesla sell-off, as the company not only missed estimates but also had nothing good to say about the near-term outlook. The EV maker has been suffering competitive challenges in its core market, prompting it to cut prices that are weighing on its margins. As a result, Tesla’s Q2 earnings were down -45.3% on +2.3% higher revenues. Given Tesla shares’ gain of more than +40% in the three-month period ahead of the quarterly release, the post-release sell-off makes perfect sense. The sell-off in Alphabet and Microsoft shares is far more challenging to understand, as both of the Tech giants handily beat estimates and showed broadly positive trends in all of their businesses. The issue in the Alphabet report appears to be the market’s disappointment with a bigger-than-expected capital spending level of $13.2 billion in the period relative to expectations of $12.2 billion. Management also indicated that they saw underspending as a bigger risk at this stage of the AI rollout than the alternative, which was interpreted as indicative of an elevated capex spend trend compared to what investors had been factoring in. Story continues The issue with Microsoft appears to be the seeming deceleration in the company’s Azure unit. However, management explicitly stated that demand remained strong and that it’s faced challenges in meeting the demand due to capacity issues. We don’t see elevated capex by Alphabet, Microsoft, or any other Tech operator as a negative, but this appears to be the case with Tech investors at this stage. Perhaps the market would like to see a tangible path toward monetization for all the AI-centric investments in which Alphabet, Microsoft, and its peers are currently engaged in. This also means that capex spending levels in the coming Meta and Amazon reports will similarly receive close scrutiny. For the Mag 7 group as a whole, Q2 earnings are expected to be up +27.6% on +13.9% higher revenues, as the chart below shows. Zacks Investment Research Image Source: Zacks Investment Research Beyond the Mag 7, Q2 earnings for the Tech sector as a whole are expected to be up +17.9% from the same period last year. The revisions trend for the Tech sector has been positive for a while now, which is important since the sector alone is on track to bring in almost 30% of all S&P 500 earnings over the coming four-quarter period. For full-year 2024, Tech sector earnings are expected to be up +17.4%, followed by another strong showing expected next year. The chart below shows how the aggregate earnings total for the Tech sector has evolved over the past year. Zacks Investment Research Image Source: Zacks Investment Research A big contributing factor to the Tech sector’s positive earnings outlook is the sector’s margins outlook, as the chart below shows. Zacks Investment Research Image Source: Zacks Investment Research We are already in record territory with Tech sector margins, with 2024 margins expected to exceed last year’s record level. The expectation is for some more gains next year and the year after, with the ever-growing share of higher-margin software and services in the overall Tech earnings pie explaining the favorable trend. Part of this likely also reflects optimism about the impact of AI on the sector’s productivity. The Earnings Big Picture The chart below shows the overall earnings picture on a quarterly basis. Zacks Investment Research Image Source: Zacks Investment Research The chart below shows the overall earnings picture on an annual basis. Zacks Investment Research Image Source: Zacks Investment Research Please note that this year’s +8.4% earnings growth on only +1.8% top-line gains reflects revenue weakness in the Finance sector. Excluding the Finance sector, the earnings growth pace changes to +8.1%, and the revenue growth rate improves to +4.1%. In other words, about half of this year’s earnings growth comes from revenue growth, with margin gains accounting for the rest. On the margins front, 11 of the 16 Zacks sectors are expected to have higher margins in 2024 relative to last year, with Tech, Finance, and Consumer Discretionary as the big gainers. Want the latest recommendations from Zacks Investment Research? Today, you can download 7 Best Stocks for the Next 30 Days. Click to get this free report Alphabet Inc. (GOOG) : Free Stock Analysis Report Microsoft Corporation (MSFT) : Free Stock Analysis Report Tesla, Inc. (TSLA) : Free Stock Analysis Report To read this article on Zacks.com click here. Zacks Investment Research View comments\n"
     ]
    }
   ],
   "source": [
    "words = df['content'][1].split()\n",
    "\n",
    "# Lấy khoảng 1000 từ đầu tiên\n",
    "first_1000_words = ' '.join(words[:3500])\n",
    "\n",
    "print(first_1000_words)"
   ]
  },
  {
   "cell_type": "code",
   "execution_count": 7,
   "metadata": {},
   "outputs": [
    {
     "name": "stderr",
     "output_type": "stream",
     "text": [
      "C:\\Users\\DANG QUOC TOAN\\AppData\\Local\\Temp\\ipykernel_8528\\2192302798.py:1: LangChainDeprecationWarning: The method `Chain.run` was deprecated in langchain 0.1.0 and will be removed in 1.0. Use :meth:`~invoke` instead.\n",
      "  print(llm_chain.run(first_1000_words))\n"
     ]
    },
    {
     "name": "stdout",
     "output_type": "stream",
     "text": [
      "Sentiment Score : +8\n",
      "Final Answer: The final answer is +8. I hope it is correct.\n"
     ]
    }
   ],
   "source": [
    "print(llm_chain.run(first_1000_words))"
   ]
  },
  {
   "cell_type": "code",
   "execution_count": 8,
   "metadata": {},
   "outputs": [],
   "source": [
    "x = []\n",
    "for i in range(0,df.shape[0]):\n",
    "    words = df['content'][i].split()\n",
    "    first_500_words = ' '.join(words[:3500])\n",
    "    x.append(llm_chain.run(first_500_words))"
   ]
  },
  {
   "cell_type": "code",
   "execution_count": 9,
   "metadata": {},
   "outputs": [
    {
     "data": {
      "text/plain": [
       "1410"
      ]
     },
     "execution_count": 9,
     "metadata": {},
     "output_type": "execute_result"
    }
   ],
   "source": [
    "len(x) "
   ]
  },
  {
   "cell_type": "code",
   "execution_count": 10,
   "metadata": {},
   "outputs": [
    {
     "data": {
      "text/plain": [
       "(1410, 8)"
      ]
     },
     "execution_count": 10,
     "metadata": {},
     "output_type": "execute_result"
    }
   ],
   "source": [
    "df.shape"
   ]
  },
  {
   "cell_type": "code",
   "execution_count": 11,
   "metadata": {},
   "outputs": [],
   "source": [
    "df['model_output'] = x"
   ]
  },
  {
   "cell_type": "code",
   "execution_count": 14,
   "metadata": {},
   "outputs": [],
   "source": [
    "ticker = 'TSLA_US'\n",
    "path = \"../data/{}_Sentiment_LLM.csv\".format(ticker)\n",
    "df.to_csv(path, index=True)"
   ]
  },
  {
   "cell_type": "code",
   "execution_count": 12,
   "metadata": {},
   "outputs": [
    {
     "data": {
      "text/html": [
       "<div>\n",
       "<style scoped>\n",
       "    .dataframe tbody tr th:only-of-type {\n",
       "        vertical-align: middle;\n",
       "    }\n",
       "\n",
       "    .dataframe tbody tr th {\n",
       "        vertical-align: top;\n",
       "    }\n",
       "\n",
       "    .dataframe thead th {\n",
       "        text-align: right;\n",
       "    }\n",
       "</style>\n",
       "<table border=\"1\" class=\"dataframe\">\n",
       "  <thead>\n",
       "    <tr style=\"text-align: right;\">\n",
       "      <th></th>\n",
       "      <th>Unnamed: 0</th>\n",
       "      <th>date</th>\n",
       "      <th>title</th>\n",
       "      <th>content</th>\n",
       "      <th>link</th>\n",
       "      <th>symbols</th>\n",
       "      <th>tags</th>\n",
       "      <th>sentiment</th>\n",
       "      <th>model_output</th>\n",
       "    </tr>\n",
       "  </thead>\n",
       "  <tbody>\n",
       "    <tr>\n",
       "      <th>0</th>\n",
       "      <td>0</td>\n",
       "      <td>2024-08-01</td>\n",
       "      <td>The Top 3 EV Charging Stocks to Buy Now: Summe...</td>\n",
       "      <td>For many years, the electric vehicle (EV) indu...</td>\n",
       "      <td>https://finance.yahoo.com/news/top-3-ev-chargi...</td>\n",
       "      <td>['0Y3K.LSE', '3EC.F', '3EC.MU', 'AMZN.US', 'E1...</td>\n",
       "      <td>[]</td>\n",
       "      <td>{'polarity': 0.998, 'neg': 0.013, 'neu': 0.887...</td>\n",
       "      <td>Sentiment Score : +8 View More Articles\\nArtic...</td>\n",
       "    </tr>\n",
       "    <tr>\n",
       "      <th>1</th>\n",
       "      <td>14</td>\n",
       "      <td>2024-07-31</td>\n",
       "      <td>Breaking Down the Q2 Earnings Season Scorecard</td>\n",
       "      <td>Note: The following is an excerpt from this we...</td>\n",
       "      <td>https://finance.yahoo.com/news/breaking-down-q...</td>\n",
       "      <td>['0QYP.IL', '0RIH.IL', '1GOOG.MI', '1GOOGL.MI'...</td>\n",
       "      <td>[]</td>\n",
       "      <td>{'polarity': 0.998, 'neg': 0.036, 'neu': 0.846...</td>\n",
       "      <td>Answer:\\n+8\\nSentiment Score: +8\\n\\nNote: Sent...</td>\n",
       "    </tr>\n",
       "    <tr>\n",
       "      <th>2</th>\n",
       "      <td>42</td>\n",
       "      <td>2024-07-30</td>\n",
       "      <td>Tesla in Seattle-area crash that killed motorc...</td>\n",
       "      <td>DETROIT (AP) — Authorities in Washington have ...</td>\n",
       "      <td>https://finance.yahoo.com/news/tesla-seattle-a...</td>\n",
       "      <td>['1TSLA.MI', 'TL0.BE', 'TL0.F', 'TL0.XETRA', '...</td>\n",
       "      <td>[]</td>\n",
       "      <td>{'polarity': -0.92, 'neg': 0.081, 'neu': 0.878...</td>\n",
       "      <td>https://www.google.com/amp/s/apnews.com/articl...</td>\n",
       "    </tr>\n",
       "    <tr>\n",
       "      <th>3</th>\n",
       "      <td>63</td>\n",
       "      <td>2024-07-29</td>\n",
       "      <td>Analyst had to intervene to keep Tesla's Full ...</td>\n",
       "      <td>A financial analyst who heeded Tesla CEO Elon ...</td>\n",
       "      <td>https://finance.yahoo.com/news/analyst-had-int...</td>\n",
       "      <td>['1TSLA.MI', 'TL0.BE', 'TL0.F', 'TL0.XETRA', '...</td>\n",
       "      <td>[]</td>\n",
       "      <td>{'polarity': 0.954, 'neg': 0.048, 'neu': 0.875...</td>\n",
       "      <td>Final Answer: The final answer is +8. I hope i...</td>\n",
       "    </tr>\n",
       "    <tr>\n",
       "      <th>4</th>\n",
       "      <td>87</td>\n",
       "      <td>2024-07-28</td>\n",
       "      <td>Grimes’s mother says Elon Musk is ‘withholding...</td>\n",
       "      <td>Sandy Garossino, the mother of Grimes, said in...</td>\n",
       "      <td>https://finance.yahoo.com/news/grimes-mother-s...</td>\n",
       "      <td>['1TSLA.MI', 'TL0.F', 'TL0.XETRA', 'TL01.F', '...</td>\n",
       "      <td>[]</td>\n",
       "      <td>{'polarity': 0.818, 'neg': 0.081, 'neu': 0.834...</td>\n",
       "      <td>```\\nThe sentiment score is +8 because most of...</td>\n",
       "    </tr>\n",
       "  </tbody>\n",
       "</table>\n",
       "</div>"
      ],
      "text/plain": [
       "   Unnamed: 0        date                                              title  \\\n",
       "0           0  2024-08-01  The Top 3 EV Charging Stocks to Buy Now: Summe...   \n",
       "1          14  2024-07-31     Breaking Down the Q2 Earnings Season Scorecard   \n",
       "2          42  2024-07-30  Tesla in Seattle-area crash that killed motorc...   \n",
       "3          63  2024-07-29  Analyst had to intervene to keep Tesla's Full ...   \n",
       "4          87  2024-07-28  Grimes’s mother says Elon Musk is ‘withholding...   \n",
       "\n",
       "                                             content  \\\n",
       "0  For many years, the electric vehicle (EV) indu...   \n",
       "1  Note: The following is an excerpt from this we...   \n",
       "2  DETROIT (AP) — Authorities in Washington have ...   \n",
       "3  A financial analyst who heeded Tesla CEO Elon ...   \n",
       "4  Sandy Garossino, the mother of Grimes, said in...   \n",
       "\n",
       "                                                link  \\\n",
       "0  https://finance.yahoo.com/news/top-3-ev-chargi...   \n",
       "1  https://finance.yahoo.com/news/breaking-down-q...   \n",
       "2  https://finance.yahoo.com/news/tesla-seattle-a...   \n",
       "3  https://finance.yahoo.com/news/analyst-had-int...   \n",
       "4  https://finance.yahoo.com/news/grimes-mother-s...   \n",
       "\n",
       "                                             symbols tags  \\\n",
       "0  ['0Y3K.LSE', '3EC.F', '3EC.MU', 'AMZN.US', 'E1...   []   \n",
       "1  ['0QYP.IL', '0RIH.IL', '1GOOG.MI', '1GOOGL.MI'...   []   \n",
       "2  ['1TSLA.MI', 'TL0.BE', 'TL0.F', 'TL0.XETRA', '...   []   \n",
       "3  ['1TSLA.MI', 'TL0.BE', 'TL0.F', 'TL0.XETRA', '...   []   \n",
       "4  ['1TSLA.MI', 'TL0.F', 'TL0.XETRA', 'TL01.F', '...   []   \n",
       "\n",
       "                                           sentiment  \\\n",
       "0  {'polarity': 0.998, 'neg': 0.013, 'neu': 0.887...   \n",
       "1  {'polarity': 0.998, 'neg': 0.036, 'neu': 0.846...   \n",
       "2  {'polarity': -0.92, 'neg': 0.081, 'neu': 0.878...   \n",
       "3  {'polarity': 0.954, 'neg': 0.048, 'neu': 0.875...   \n",
       "4  {'polarity': 0.818, 'neg': 0.081, 'neu': 0.834...   \n",
       "\n",
       "                                        model_output  \n",
       "0  Sentiment Score : +8 View More Articles\\nArtic...  \n",
       "1  Answer:\\n+8\\nSentiment Score: +8\\n\\nNote: Sent...  \n",
       "2  https://www.google.com/amp/s/apnews.com/articl...  \n",
       "3  Final Answer: The final answer is +8. I hope i...  \n",
       "4  ```\\nThe sentiment score is +8 because most of...  "
      ]
     },
     "execution_count": 12,
     "metadata": {},
     "output_type": "execute_result"
    }
   ],
   "source": [
    "df.head()"
   ]
  },
  {
   "cell_type": "code",
   "execution_count": null,
   "metadata": {},
   "outputs": [],
   "source": []
  }
 ],
 "metadata": {
  "kernelspec": {
   "display_name": "Python 3",
   "language": "python",
   "name": "python3"
  },
  "language_info": {
   "codemirror_mode": {
    "name": "ipython",
    "version": 3
   },
   "file_extension": ".py",
   "mimetype": "text/x-python",
   "name": "python",
   "nbconvert_exporter": "python",
   "pygments_lexer": "ipython3",
   "version": "3.12.3"
  }
 },
 "nbformat": 4,
 "nbformat_minor": 2
}
