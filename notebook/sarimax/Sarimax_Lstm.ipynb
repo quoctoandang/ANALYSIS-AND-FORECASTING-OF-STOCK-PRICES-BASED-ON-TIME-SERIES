{
 "cells": [
  {
   "cell_type": "code",
   "execution_count": 1,
   "metadata": {},
   "outputs": [],
   "source": [
    "import warnings\n",
    "import itertools\n",
    "import pandas as pd\n",
    "import numpy as np\n",
    "import csv\n",
    "import statsmodels.api as sm\n",
    "from datetime import datetime\n",
    "from pmdarima.arima import auto_arima\n",
    "from statsmodels.tsa.statespace.sarimax import SARIMAX\n",
    "from sklearn.metrics import mean_squared_error, r2_score\n",
    "from sklearn.metrics import mean_absolute_error, mean_absolute_percentage_error\n",
    "from sklearn.model_selection import TimeSeriesSplit\n",
    "import matplotlib.pyplot as plt\n",
    "from seaborn import histplot\n",
    "import time\n",
    "import joblib"
   ]
  },
  {
   "cell_type": "markdown",
   "metadata": {},
   "source": [
    "### ***Read data***"
   ]
  },
  {
   "cell_type": "code",
   "execution_count": 2,
   "metadata": {},
   "outputs": [
    {
     "data": {
      "text/html": [
       "<div>\n",
       "<style scoped>\n",
       "    .dataframe tbody tr th:only-of-type {\n",
       "        vertical-align: middle;\n",
       "    }\n",
       "\n",
       "    .dataframe tbody tr th {\n",
       "        vertical-align: top;\n",
       "    }\n",
       "\n",
       "    .dataframe thead th {\n",
       "        text-align: right;\n",
       "    }\n",
       "</style>\n",
       "<table border=\"1\" class=\"dataframe\">\n",
       "  <thead>\n",
       "    <tr style=\"text-align: right;\">\n",
       "      <th></th>\n",
       "      <th>high</th>\n",
       "      <th>low</th>\n",
       "      <th>open</th>\n",
       "      <th>unix</th>\n",
       "      <th>cum_change</th>\n",
       "      <th>sma_7_up</th>\n",
       "      <th>sma_7</th>\n",
       "      <th>sma_7_low</th>\n",
       "      <th>ema_14</th>\n",
       "      <th>b_ma</th>\n",
       "      <th>bu</th>\n",
       "      <th>bl</th>\n",
       "      <th>cma_7</th>\n",
       "      <th>month</th>\n",
       "      <th>atr</th>\n",
       "      <th>year</th>\n",
       "      <th>ppo</th>\n",
       "      <th>close</th>\n",
       "    </tr>\n",
       "    <tr>\n",
       "      <th>date</th>\n",
       "      <th></th>\n",
       "      <th></th>\n",
       "      <th></th>\n",
       "      <th></th>\n",
       "      <th></th>\n",
       "      <th></th>\n",
       "      <th></th>\n",
       "      <th></th>\n",
       "      <th></th>\n",
       "      <th></th>\n",
       "      <th></th>\n",
       "      <th></th>\n",
       "      <th></th>\n",
       "      <th></th>\n",
       "      <th></th>\n",
       "      <th></th>\n",
       "      <th></th>\n",
       "      <th></th>\n",
       "    </tr>\n",
       "  </thead>\n",
       "  <tbody>\n",
       "    <tr>\n",
       "      <th>2020-01-02</th>\n",
       "      <td>209.789993</td>\n",
       "      <td>206.270004</td>\n",
       "      <td>206.750000</td>\n",
       "      <td>1577923200</td>\n",
       "      <td>0.045198</td>\n",
       "      <td>210.794776</td>\n",
       "      <td>209.779999</td>\n",
       "      <td>207.655221</td>\n",
       "      <td>209.779999</td>\n",
       "      <td>217.042583</td>\n",
       "      <td>227.120132</td>\n",
       "      <td>206.965034</td>\n",
       "      <td>211.514287</td>\n",
       "      <td>1</td>\n",
       "      <td>3.519989</td>\n",
       "      <td>2020</td>\n",
       "      <td>0.000000</td>\n",
       "      <td>209.779999</td>\n",
       "    </tr>\n",
       "    <tr>\n",
       "      <th>2020-01-03</th>\n",
       "      <td>210.399994</td>\n",
       "      <td>206.949997</td>\n",
       "      <td>207.210007</td>\n",
       "      <td>1578009600</td>\n",
       "      <td>0.090156</td>\n",
       "      <td>210.794776</td>\n",
       "      <td>209.224998</td>\n",
       "      <td>207.655221</td>\n",
       "      <td>209.631999</td>\n",
       "      <td>217.042583</td>\n",
       "      <td>227.120132</td>\n",
       "      <td>206.965034</td>\n",
       "      <td>211.514287</td>\n",
       "      <td>1</td>\n",
       "      <td>3.514990</td>\n",
       "      <td>2020</td>\n",
       "      <td>-0.042226</td>\n",
       "      <td>208.669998</td>\n",
       "    </tr>\n",
       "    <tr>\n",
       "      <th>2020-01-04</th>\n",
       "      <td>211.193329</td>\n",
       "      <td>206.806666</td>\n",
       "      <td>207.040003</td>\n",
       "      <td>1578096000</td>\n",
       "      <td>0.135397</td>\n",
       "      <td>210.888098</td>\n",
       "      <td>209.476666</td>\n",
       "      <td>208.065234</td>\n",
       "      <td>209.678399</td>\n",
       "      <td>217.042583</td>\n",
       "      <td>227.120132</td>\n",
       "      <td>206.965034</td>\n",
       "      <td>211.514287</td>\n",
       "      <td>1</td>\n",
       "      <td>3.577252</td>\n",
       "      <td>2020</td>\n",
       "      <td>-0.024991</td>\n",
       "      <td>209.980001</td>\n",
       "    </tr>\n",
       "    <tr>\n",
       "      <th>2020-01-05</th>\n",
       "      <td>211.986664</td>\n",
       "      <td>206.663335</td>\n",
       "      <td>206.870000</td>\n",
       "      <td>1578182400</td>\n",
       "      <td>0.180920</td>\n",
       "      <td>212.078555</td>\n",
       "      <td>209.930000</td>\n",
       "      <td>207.781446</td>\n",
       "      <td>209.893280</td>\n",
       "      <td>217.042583</td>\n",
       "      <td>227.120132</td>\n",
       "      <td>206.965034</td>\n",
       "      <td>211.514287</td>\n",
       "      <td>1</td>\n",
       "      <td>3.701972</td>\n",
       "      <td>2020</td>\n",
       "      <td>0.038602</td>\n",
       "      <td>211.290003</td>\n",
       "    </tr>\n",
       "    <tr>\n",
       "      <th>2020-01-06</th>\n",
       "      <td>212.779999</td>\n",
       "      <td>206.520004</td>\n",
       "      <td>206.699997</td>\n",
       "      <td>1578268800</td>\n",
       "      <td>0.226725</td>\n",
       "      <td>213.491436</td>\n",
       "      <td>210.464001</td>\n",
       "      <td>207.436567</td>\n",
       "      <td>210.254176</td>\n",
       "      <td>217.042583</td>\n",
       "      <td>227.120132</td>\n",
       "      <td>206.965034</td>\n",
       "      <td>211.514287</td>\n",
       "      <td>1</td>\n",
       "      <td>3.884688</td>\n",
       "      <td>2020</td>\n",
       "      <td>0.137642</td>\n",
       "      <td>212.600006</td>\n",
       "    </tr>\n",
       "  </tbody>\n",
       "</table>\n",
       "</div>"
      ],
      "text/plain": [
       "                  high         low        open        unix  cum_change  \\\n",
       "date                                                                     \n",
       "2020-01-02  209.789993  206.270004  206.750000  1577923200    0.045198   \n",
       "2020-01-03  210.399994  206.949997  207.210007  1578009600    0.090156   \n",
       "2020-01-04  211.193329  206.806666  207.040003  1578096000    0.135397   \n",
       "2020-01-05  211.986664  206.663335  206.870000  1578182400    0.180920   \n",
       "2020-01-06  212.779999  206.520004  206.699997  1578268800    0.226725   \n",
       "\n",
       "              sma_7_up       sma_7   sma_7_low      ema_14        b_ma  \\\n",
       "date                                                                     \n",
       "2020-01-02  210.794776  209.779999  207.655221  209.779999  217.042583   \n",
       "2020-01-03  210.794776  209.224998  207.655221  209.631999  217.042583   \n",
       "2020-01-04  210.888098  209.476666  208.065234  209.678399  217.042583   \n",
       "2020-01-05  212.078555  209.930000  207.781446  209.893280  217.042583   \n",
       "2020-01-06  213.491436  210.464001  207.436567  210.254176  217.042583   \n",
       "\n",
       "                    bu          bl       cma_7  month       atr  year  \\\n",
       "date                                                                    \n",
       "2020-01-02  227.120132  206.965034  211.514287      1  3.519989  2020   \n",
       "2020-01-03  227.120132  206.965034  211.514287      1  3.514990  2020   \n",
       "2020-01-04  227.120132  206.965034  211.514287      1  3.577252  2020   \n",
       "2020-01-05  227.120132  206.965034  211.514287      1  3.701972  2020   \n",
       "2020-01-06  227.120132  206.965034  211.514287      1  3.884688  2020   \n",
       "\n",
       "                 ppo       close  \n",
       "date                              \n",
       "2020-01-02  0.000000  209.779999  \n",
       "2020-01-03 -0.042226  208.669998  \n",
       "2020-01-04 -0.024991  209.980001  \n",
       "2020-01-05  0.038602  211.290003  \n",
       "2020-01-06  0.137642  212.600006  "
      ]
     },
     "execution_count": 2,
     "metadata": {},
     "output_type": "execute_result"
    }
   ],
   "source": [
    "df = pd.read_csv('../data/data_train_model.csv')\n",
    "df['date'] = pd.to_datetime(df['date'])\n",
    "df.set_index('date', inplace=True)\n",
    "df.fillna(0, inplace=True)\n",
    "df.head()"
   ]
  },
  {
   "cell_type": "markdown",
   "metadata": {},
   "source": [
    "### ***Model Sarimax***"
   ]
  },
  {
   "cell_type": "markdown",
   "metadata": {},
   "source": [
    "#### ***Split Data***"
   ]
  },
  {
   "cell_type": "code",
   "execution_count": 3,
   "metadata": {},
   "outputs": [],
   "source": [
    "split_ratio = 0.8\n",
    "cut_off = int(len(df) * split_ratio)\n",
    "train_sarimax = df[:cut_off]\n",
    "test_sarimax = df[cut_off:]\n",
    "X_train_sarimax = train_sarimax.drop(['close'], axis=1)\n",
    "X_test_sarimax = test_sarimax.drop(['close'], axis=1)\n",
    "y_train_sarimax = train_sarimax['close']\n",
    "y_test_sarimax = test_sarimax['close']"
   ]
  },
  {
   "cell_type": "markdown",
   "metadata": {},
   "source": [
    "#### ***Check param***"
   ]
  },
  {
   "cell_type": "code",
   "execution_count": 4,
   "metadata": {},
   "outputs": [
    {
     "name": "stdout",
     "output_type": "stream",
     "text": [
      "Performing stepwise search to minimize aic\n",
      " ARIMA(2,0,2)(1,0,1)[7] intercept   : AIC=5403.590, Time=3.05 sec\n",
      " ARIMA(0,0,0)(0,0,0)[7] intercept   : AIC=5517.234, Time=0.97 sec\n",
      " ARIMA(1,0,0)(1,0,0)[7] intercept   : AIC=5408.521, Time=2.34 sec\n",
      " ARIMA(0,0,1)(0,0,1)[7] intercept   : AIC=5416.246, Time=2.82 sec\n",
      " ARIMA(0,0,0)(0,0,0)[7]             : AIC=13810.404, Time=0.97 sec\n",
      " ARIMA(2,0,2)(0,0,1)[7] intercept   : AIC=5401.795, Time=2.85 sec\n",
      " ARIMA(2,0,2)(0,0,0)[7] intercept   : AIC=5400.042, Time=1.95 sec\n",
      " ARIMA(2,0,2)(1,0,0)[7] intercept   : AIC=5401.724, Time=2.63 sec\n",
      " ARIMA(1,0,2)(0,0,0)[7] intercept   : AIC=5404.296, Time=1.95 sec\n"
     ]
    },
    {
     "name": "stderr",
     "output_type": "stream",
     "text": [
      "c:\\Users\\DANG QUOC TOAN\\AppData\\Local\\Programs\\Python\\Python312\\Lib\\site-packages\\statsmodels\\tsa\\statespace\\sarimax.py:1898: RuntimeWarning: divide by zero encountered in reciprocal\n",
      "  return np.roots(self.polynomial_reduced_ar)**-1\n",
      "c:\\Users\\DANG QUOC TOAN\\AppData\\Local\\Programs\\Python\\Python312\\Lib\\site-packages\\statsmodels\\tsa\\statespace\\sarimax.py:1905: RuntimeWarning: divide by zero encountered in reciprocal\n",
      "  return np.roots(self.polynomial_reduced_ma)**-1\n"
     ]
    },
    {
     "name": "stdout",
     "output_type": "stream",
     "text": [
      " ARIMA(2,0,1)(0,0,0)[7] intercept   : AIC=5529.035, Time=1.73 sec\n",
      " ARIMA(3,0,2)(0,0,0)[7] intercept   : AIC=5400.988, Time=2.10 sec\n",
      " ARIMA(2,0,3)(0,0,0)[7] intercept   : AIC=5403.582, Time=2.02 sec\n",
      " ARIMA(1,0,1)(0,0,0)[7] intercept   : AIC=5408.052, Time=1.75 sec\n",
      " ARIMA(1,0,3)(0,0,0)[7] intercept   : AIC=5401.255, Time=2.02 sec\n",
      " ARIMA(3,0,1)(0,0,0)[7] intercept   : AIC=5399.105, Time=1.90 sec\n",
      " ARIMA(3,0,1)(1,0,0)[7] intercept   : AIC=5400.991, Time=2.85 sec\n",
      " ARIMA(3,0,1)(0,0,1)[7] intercept   : AIC=5401.180, Time=2.74 sec\n",
      " ARIMA(3,0,1)(1,0,1)[7] intercept   : AIC=5402.976, Time=2.97 sec\n",
      " ARIMA(3,0,0)(0,0,0)[7] intercept   : AIC=5397.210, Time=1.97 sec\n",
      " ARIMA(3,0,0)(1,0,0)[7] intercept   : AIC=5399.158, Time=3.13 sec\n",
      " ARIMA(3,0,0)(0,0,1)[7] intercept   : AIC=5399.383, Time=2.59 sec\n",
      " ARIMA(3,0,0)(1,0,1)[7] intercept   : AIC=5401.174, Time=3.51 sec\n",
      " ARIMA(2,0,0)(0,0,0)[7] intercept   : AIC=5407.325, Time=2.60 sec\n",
      " ARIMA(4,0,0)(0,0,0)[7] intercept   : AIC=5399.115, Time=3.04 sec\n",
      " ARIMA(4,0,1)(0,0,0)[7] intercept   : AIC=5401.290, Time=2.39 sec\n",
      " ARIMA(3,0,0)(0,0,0)[7]             : AIC=5395.210, Time=1.99 sec\n",
      " ARIMA(3,0,0)(1,0,0)[7]             : AIC=5397.159, Time=2.76 sec\n",
      " ARIMA(3,0,0)(0,0,1)[7]             : AIC=5397.383, Time=14.87 sec\n",
      " ARIMA(3,0,0)(1,0,1)[7]             : AIC=5399.174, Time=8.65 sec\n",
      " ARIMA(2,0,0)(0,0,0)[7]             : AIC=5405.326, Time=1.47 sec\n",
      " ARIMA(4,0,0)(0,0,0)[7]             : AIC=5397.115, Time=2.03 sec\n",
      " ARIMA(3,0,1)(0,0,0)[7]             : AIC=5397.105, Time=2.00 sec\n"
     ]
    },
    {
     "name": "stderr",
     "output_type": "stream",
     "text": [
      "c:\\Users\\DANG QUOC TOAN\\AppData\\Local\\Programs\\Python\\Python312\\Lib\\site-packages\\statsmodels\\tsa\\statespace\\sarimax.py:1898: RuntimeWarning: divide by zero encountered in reciprocal\n",
      "  return np.roots(self.polynomial_reduced_ar)**-1\n",
      "c:\\Users\\DANG QUOC TOAN\\AppData\\Local\\Programs\\Python\\Python312\\Lib\\site-packages\\statsmodels\\tsa\\statespace\\sarimax.py:1905: RuntimeWarning: divide by zero encountered in reciprocal\n",
      "  return np.roots(self.polynomial_reduced_ma)**-1\n"
     ]
    },
    {
     "name": "stdout",
     "output_type": "stream",
     "text": [
      " ARIMA(2,0,1)(0,0,0)[7]             : AIC=5527.035, Time=1.81 sec\n",
      " ARIMA(4,0,1)(0,0,0)[7]             : AIC=5399.289, Time=2.12 sec\n",
      "\n",
      "Best model:  ARIMA(3,0,0)(0,0,0)[7]          \n",
      "Total fit time: 96.624 seconds\n"
     ]
    }
   ],
   "source": [
    "model  = auto_arima(y=y_train_sarimax,\n",
    "                    X=X_train_sarimax,\n",
    "                    m = 7,\n",
    "                    max_P=5,\n",
    "                    max_Q=5,\n",
    "                    seasonal=True,\n",
    "                    test='adf',\n",
    "                    alpha=0.05,              \n",
    "                    d=None,                  \n",
    "                    D=None,\n",
    "                    error_action='ignore',\n",
    "                    suppress_warnings=True, \n",
    "                    trace=True,\n",
    "                    scoring='mse')\n",
    "orders, seasonal_orders = model.order, model.seasonal_order"
   ]
  },
  {
   "cell_type": "code",
   "execution_count": 5,
   "metadata": {},
   "outputs": [
    {
     "name": "stderr",
     "output_type": "stream",
     "text": [
      "c:\\Users\\DANG QUOC TOAN\\AppData\\Local\\Programs\\Python\\Python312\\Lib\\site-packages\\statsmodels\\tsa\\base\\tsa_model.py:473: ValueWarning: No frequency information was provided, so inferred frequency D will be used.\n",
      "  self._init_dates(dates, freq)\n"
     ]
    },
    {
     "name": "stdout",
     "output_type": "stream",
     "text": [
      "Model's AIC = 5385.9485\n",
      "                               SARIMAX Results                                \n",
      "==============================================================================\n",
      "Dep. Variable:                  close   No. Observations:                 1338\n",
      "Model:               SARIMAX(3, 0, 0)   Log Likelihood               -2671.974\n",
      "Date:                Thu, 05 Dec 2024   AIC                           5385.949\n",
      "Time:                        23:43:15   BIC                           5495.079\n",
      "Sample:                    01-02-2020   HQIC                          5426.841\n",
      "                         - 08-31-2023                                         \n",
      "Covariance Type:                  opg                                         \n",
      "==============================================================================\n",
      "                 coef    std err          z      P>|z|      [0.025      0.975]\n",
      "------------------------------------------------------------------------------\n",
      "high           0.7617   9.68e-05   7867.085      0.000       0.761       0.762\n",
      "low            0.7700   9.57e-05   8043.440      0.000       0.770       0.770\n",
      "open          -0.5945   9.67e-05  -6146.778      0.000      -0.595      -0.594\n",
      "unix       -6.309e-08   1.63e-10   -387.060      0.000   -6.34e-08   -6.28e-08\n",
      "cum_change     0.1104      3e-06   3.68e+04      0.000       0.110       0.110\n",
      "sma_7_up      -1.5719   9.69e-05  -1.62e+04      0.000      -1.572      -1.572\n",
      "sma_7          2.9030   9.74e-05   2.98e+04      0.000       2.903       2.903\n",
      "sma_7_low     -1.5590   9.79e-05  -1.59e+04      0.000      -1.559      -1.559\n",
      "ema_14         0.5102    9.6e-05   5316.428      0.000       0.510       0.510\n",
      "b_ma          -0.0717    9.5e-05   -754.355      0.000      -0.072      -0.071\n",
      "bu            -0.0794   9.33e-05   -851.410      0.000      -0.080      -0.079\n",
      "bl            -0.0639   9.67e-05   -660.768      0.000      -0.064      -0.064\n",
      "cma_7         -0.0248   9.77e-06  -2541.200      0.000      -0.025      -0.025\n",
      "month         -0.0026   1.29e-06  -2017.752      0.000      -0.003      -0.003\n",
      "atr           -0.0604   8.45e-07  -7.14e+04      0.000      -0.060      -0.060\n",
      "year           0.0520   6.67e-06   7792.937      0.000       0.052       0.052\n",
      "ppo            0.0711   1.32e-06   5.41e+04      0.000       0.071       0.071\n",
      "ar.L1          0.2912   6.25e-07   4.66e+05      0.000       0.291       0.291\n",
      "ar.L2         -0.0083   2.18e-07  -3.82e+04      0.000      -0.008      -0.008\n",
      "ar.L3         -0.0953   3.57e-07  -2.67e+05      0.000      -0.095      -0.095\n",
      "sigma2         3.2062   2.95e-08   1.09e+08      0.000       3.206       3.206\n",
      "===================================================================================\n",
      "Ljung-Box (L1) (Q):                   0.00   Jarque-Bera (JB):               369.98\n",
      "Prob(Q):                              0.98   Prob(JB):                         0.00\n",
      "Heteroskedasticity (H):               0.54   Skew:                             0.01\n",
      "Prob(H) (two-sided):                  0.00   Kurtosis:                         5.58\n",
      "===================================================================================\n",
      "\n",
      "Warnings:\n",
      "[1] Covariance matrix calculated using the outer product of gradients (complex-step).\n",
      "[2] Covariance matrix is singular or near-singular, with condition number 4.79e+23. Standard errors may be unstable.\n"
     ]
    },
    {
     "name": "stderr",
     "output_type": "stream",
     "text": [
      "c:\\Users\\DANG QUOC TOAN\\AppData\\Local\\Programs\\Python\\Python312\\Lib\\site-packages\\statsmodels\\base\\model.py:607: ConvergenceWarning: Maximum Likelihood optimization failed to converge. Check mle_retvals\n",
      "  warnings.warn(\"Maximum Likelihood optimization failed to \"\n"
     ]
    }
   ],
   "source": [
    "model_sarimax = SARIMAX(\n",
    "            endog=y_train_sarimax,\n",
    "            exog=X_train_sarimax,\n",
    "            order=orders,\n",
    "            seasonal_order=seasonal_orders,\n",
    "            freq='D',\n",
    "            trend=None,\n",
    "            enforce_stationarity=False,\n",
    "            enforce_invertibility=False,\n",
    "            mle_regression=True\n",
    "        )\n",
    "model_fit = model_sarimax.fit(disp=0)\n",
    "print(\"Model's AIC = {:.4f}\".format(model_fit.aic))\n",
    "print(model_fit.summary())"
   ]
  },
  {
   "cell_type": "code",
   "execution_count": 6,
   "metadata": {},
   "outputs": [],
   "source": [
    "forecasts = model_fit.predict(start=y_test_sarimax.index[0], end=y_test_sarimax.index[-1], exog=X_test_sarimax, dynamic=True)"
   ]
  },
  {
   "cell_type": "code",
   "execution_count": 7,
   "metadata": {},
   "outputs": [
    {
     "data": {
      "text/plain": [
       "<matplotlib.legend.Legend at 0x10da8c74cb0>"
      ]
     },
     "execution_count": 7,
     "metadata": {},
     "output_type": "execute_result"
    },
    {
     "data": {
      "image/png": "[encoded data removed]",
      "text/plain": [
       "<Figure size 900x600 with 2 Axes>"
      ]
     },
     "metadata": {},
     "output_type": "display_data"
    }
   ],
   "source": [
    "fig, axes = plt.subplots(2, 1, sharex=False, figsize=(9, 6), tight_layout=True, gridspec_kw={'height_ratios': [1.5, 1]})\n",
    "axes[0].plot(y_train_sarimax, label='train')\n",
    "axes[0].plot(y_test_sarimax, linewidth=1.5, label='test')\n",
    "axes[0].plot(forecasts, color='green', label='forecast')\n",
    "axes[0].set_title('Close Price Estimations: SARIMAX')\n",
    "axes[0].legend()\n",
    "\n",
    "axes[1].plot(y_test_sarimax, linewidth=1.5, label='test')\n",
    "axes[1].plot(forecasts, label='forecast')\n",
    "axes[1].set_xlim(y_test_sarimax.index[0], y_test_sarimax.index[-1])\n",
    "axes[1].set_ylim(min(y_test_sarimax.min(), forecasts.min()) - 10, max(y_test_sarimax.max(), forecasts.max()) + 10)\n",
    "axes[1].legend()"
   ]
  },
  {
   "cell_type": "code",
   "execution_count": 8,
   "metadata": {},
   "outputs": [],
   "source": [
    "def cross_val_sarimax(data, orders, seasonal_orders, k=6, test_data=True):\n",
    "        '''\n",
    "        Returns k-fold cross-validation score (RMSE).\n",
    "\n",
    "        '''\n",
    "        tscv = TimeSeriesSplit(n_splits=k)\n",
    "        cv_scores = []\n",
    "        \n",
    "        for train_index, test_index in tscv.split(data):\n",
    "            # set endogenous & exogenous variables\n",
    "            cv_endog_train, cv_endog_test = data.iloc[train_index, -1:], data.iloc[test_index, -1:]\n",
    "            cv_exog_train, cv_exog_test = data.iloc[train_index, :-1], data.iloc[test_index, :-1]\n",
    "            \n",
    "            mod = SARIMAX(\n",
    "                endog=cv_endog_train,\n",
    "                exog=cv_exog_train,\n",
    "                order=orders,\n",
    "                seasonal_order=seasonal_orders,\n",
    "                freq='D',\n",
    "                trend=None,\n",
    "                enforce_stationarity=False,\n",
    "                enforce_invertibility=False,\n",
    "                mle_regression=True\n",
    "            ).fit()\n",
    "            \n",
    "            # get scores & append to list\n",
    "            forecasts = mod.predict(start=cv_endog_test.index[0], end=cv_endog_test.index[-1], exog=cv_exog_test, dynamic=True)\n",
    "            rmse = np.sqrt(mean_squared_error(cv_endog_test, forecasts))\n",
    "            cv_scores.append(rmse)\n",
    "            \n",
    "        return np.mean(cv_scores)"
   ]
  },
  {
   "cell_type": "code",
   "execution_count": 9,
   "metadata": {},
   "outputs": [
    {
     "name": "stderr",
     "output_type": "stream",
     "text": [
      "c:\\Users\\DANG QUOC TOAN\\AppData\\Local\\Programs\\Python\\Python312\\Lib\\site-packages\\statsmodels\\tsa\\base\\tsa_model.py:473: ValueWarning: No frequency information was provided, so inferred frequency D will be used.\n",
      "  self._init_dates(dates, freq)\n",
      "c:\\Users\\DANG QUOC TOAN\\AppData\\Local\\Programs\\Python\\Python312\\Lib\\site-packages\\statsmodels\\base\\model.py:607: ConvergenceWarning: Maximum Likelihood optimization failed to converge. Check mle_retvals\n",
      "  warnings.warn(\"Maximum Likelihood optimization failed to \"\n",
      "c:\\Users\\DANG QUOC TOAN\\AppData\\Local\\Programs\\Python\\Python312\\Lib\\site-packages\\statsmodels\\tsa\\base\\tsa_model.py:473: ValueWarning: No frequency information was provided, so inferred frequency D will be used.\n",
      "  self._init_dates(dates, freq)\n",
      "c:\\Users\\DANG QUOC TOAN\\AppData\\Local\\Programs\\Python\\Python312\\Lib\\site-packages\\statsmodels\\base\\model.py:607: ConvergenceWarning: Maximum Likelihood optimization failed to converge. Check mle_retvals\n",
      "  warnings.warn(\"Maximum Likelihood optimization failed to \"\n",
      "c:\\Users\\DANG QUOC TOAN\\AppData\\Local\\Programs\\Python\\Python312\\Lib\\site-packages\\statsmodels\\tsa\\base\\tsa_model.py:473: ValueWarning: No frequency information was provided, so inferred frequency D will be used.\n",
      "  self._init_dates(dates, freq)\n",
      "c:\\Users\\DANG QUOC TOAN\\AppData\\Local\\Programs\\Python\\Python312\\Lib\\site-packages\\statsmodels\\base\\model.py:607: ConvergenceWarning: Maximum Likelihood optimization failed to converge. Check mle_retvals\n",
      "  warnings.warn(\"Maximum Likelihood optimization failed to \"\n",
      "c:\\Users\\DANG QUOC TOAN\\AppData\\Local\\Programs\\Python\\Python312\\Lib\\site-packages\\statsmodels\\tsa\\base\\tsa_model.py:473: ValueWarning: No frequency information was provided, so inferred frequency D will be used.\n",
      "  self._init_dates(dates, freq)\n",
      "c:\\Users\\DANG QUOC TOAN\\AppData\\Local\\Programs\\Python\\Python312\\Lib\\site-packages\\statsmodels\\base\\model.py:607: ConvergenceWarning: Maximum Likelihood optimization failed to converge. Check mle_retvals\n",
      "  warnings.warn(\"Maximum Likelihood optimization failed to \"\n",
      "c:\\Users\\DANG QUOC TOAN\\AppData\\Local\\Programs\\Python\\Python312\\Lib\\site-packages\\statsmodels\\tsa\\base\\tsa_model.py:473: ValueWarning: No frequency information was provided, so inferred frequency D will be used.\n",
      "  self._init_dates(dates, freq)\n",
      "c:\\Users\\DANG QUOC TOAN\\AppData\\Local\\Programs\\Python\\Python312\\Lib\\site-packages\\statsmodels\\base\\model.py:607: ConvergenceWarning: Maximum Likelihood optimization failed to converge. Check mle_retvals\n",
      "  warnings.warn(\"Maximum Likelihood optimization failed to \"\n",
      "c:\\Users\\DANG QUOC TOAN\\AppData\\Local\\Programs\\Python\\Python312\\Lib\\site-packages\\statsmodels\\tsa\\base\\tsa_model.py:473: ValueWarning: No frequency information was provided, so inferred frequency D will be used.\n",
      "  self._init_dates(dates, freq)\n",
      "c:\\Users\\DANG QUOC TOAN\\AppData\\Local\\Programs\\Python\\Python312\\Lib\\site-packages\\statsmodels\\base\\model.py:607: ConvergenceWarning: Maximum Likelihood optimization failed to converge. Check mle_retvals\n",
      "  warnings.warn(\"Maximum Likelihood optimization failed to \"\n"
     ]
    }
   ],
   "source": [
    "rmse = np.sqrt(mean_squared_error(y_test_sarimax, forecasts))\n",
    "cv_rmse = cross_val_sarimax(df, orders, seasonal_orders)\n",
    "r2 = r2_score(y_test_sarimax, forecasts)\n",
    "mae = mean_absolute_error(y_test_sarimax, forecasts)\n",
    "mape = mean_absolute_percentage_error(y_test_sarimax, forecasts)"
   ]
  },
  {
   "cell_type": "code",
   "execution_count": 10,
   "metadata": {},
   "outputs": [
    {
     "name": "stdout",
     "output_type": "stream",
     "text": [
      "Testing performance:\n",
      "--------------------\n",
      "RMSE: 2.7048\n",
      "6-fold CV: 2.4136\n",
      "R2: 0.9989\n",
      "MAE: 2.0341\n",
      "MAPE: 0.0049%\n"
     ]
    }
   ],
   "source": [
    "print('Testing performance:')\n",
    "print('--------------------')\n",
    "print('RMSE: {:.4f}'.format(rmse))\n",
    "print('6-fold CV: {:.4f}'.format(cv_rmse))\n",
    "print('R2: {:.4f}'.format(r2))\n",
    "print('MAE: {:.4f}'.format(mae))\n",
    "print('MAPE: {:.4f}%'.format(mape))"
   ]
  },
  {
   "cell_type": "markdown",
   "metadata": {},
   "source": [
    "### ***Get residual Train model LSTM***"
   ]
  },
  {
   "cell_type": "code",
   "execution_count": 11,
   "metadata": {},
   "outputs": [],
   "source": [
    "residual_train = model_fit.resid\n",
    "df_residual_train = pd.DataFrame(residual_train, columns=['Residual Train'])\n",
    "residual_test = y_test_sarimax - forecasts\n",
    "df_residual_test = pd.DataFrame(residual_test, columns=['Residual Test'])"
   ]
  },
  {
   "cell_type": "code",
   "execution_count": 13,
   "metadata": {},
   "outputs": [
    {
     "name": "stdout",
     "output_type": "stream",
     "text": [
      "Shape Train Sarimax =  (1338, 18)\n",
      "Shape Test Sarimax =  (335, 18)\n",
      "Shape residual train =  (1338,)\n",
      "Shape residual test =  (335,)\n"
     ]
    }
   ],
   "source": [
    "print(\"Shape Train Sarimax = \", train_sarimax.shape)\n",
    "print(\"Shape Test Sarimax = \", test_sarimax.shape)\n",
    "print(\"Shape residual train = \", residual_train.shape)\n",
    "print(\"Shape residual test = \", residual_test.shape)"
   ]
  },
  {
   "cell_type": "code",
   "execution_count": 16,
   "metadata": {},
   "outputs": [],
   "source": [
    "residual = pd.concat([residual_train, residual_test])"
   ]
  },
  {
   "cell_type": "code",
   "execution_count": 17,
   "metadata": {},
   "outputs": [
    {
     "data": {
      "text/html": [
       "<div>\n",
       "<style scoped>\n",
       "    .dataframe tbody tr th:only-of-type {\n",
       "        vertical-align: middle;\n",
       "    }\n",
       "\n",
       "    .dataframe tbody tr th {\n",
       "        vertical-align: top;\n",
       "    }\n",
       "\n",
       "    .dataframe thead th {\n",
       "        text-align: right;\n",
       "    }\n",
       "</style>\n",
       "<table border=\"1\" class=\"dataframe\">\n",
       "  <thead>\n",
       "    <tr style=\"text-align: right;\">\n",
       "      <th></th>\n",
       "      <th>high</th>\n",
       "      <th>low</th>\n",
       "      <th>open</th>\n",
       "      <th>unix</th>\n",
       "      <th>cum_change</th>\n",
       "      <th>sma_7_up</th>\n",
       "      <th>sma_7</th>\n",
       "      <th>sma_7_low</th>\n",
       "      <th>ema_14</th>\n",
       "      <th>b_ma</th>\n",
       "      <th>bu</th>\n",
       "      <th>bl</th>\n",
       "      <th>cma_7</th>\n",
       "      <th>month</th>\n",
       "      <th>atr</th>\n",
       "      <th>year</th>\n",
       "      <th>ppo</th>\n",
       "      <th>close</th>\n",
       "      <th>residual</th>\n",
       "    </tr>\n",
       "    <tr>\n",
       "      <th>date</th>\n",
       "      <th></th>\n",
       "      <th></th>\n",
       "      <th></th>\n",
       "      <th></th>\n",
       "      <th></th>\n",
       "      <th></th>\n",
       "      <th></th>\n",
       "      <th></th>\n",
       "      <th></th>\n",
       "      <th></th>\n",
       "      <th></th>\n",
       "      <th></th>\n",
       "      <th></th>\n",
       "      <th></th>\n",
       "      <th></th>\n",
       "      <th></th>\n",
       "      <th></th>\n",
       "      <th></th>\n",
       "      <th></th>\n",
       "    </tr>\n",
       "  </thead>\n",
       "  <tbody>\n",
       "    <tr>\n",
       "      <th>2020-01-02</th>\n",
       "      <td>209.789993</td>\n",
       "      <td>206.270004</td>\n",
       "      <td>206.750000</td>\n",
       "      <td>1577923200</td>\n",
       "      <td>0.045198</td>\n",
       "      <td>210.794776</td>\n",
       "      <td>209.779999</td>\n",
       "      <td>207.655221</td>\n",
       "      <td>209.779999</td>\n",
       "      <td>217.042583</td>\n",
       "      <td>227.120132</td>\n",
       "      <td>206.965034</td>\n",
       "      <td>211.514287</td>\n",
       "      <td>1</td>\n",
       "      <td>3.519989</td>\n",
       "      <td>2020</td>\n",
       "      <td>0.000000</td>\n",
       "      <td>209.779999</td>\n",
       "      <td>2.895774e-09</td>\n",
       "    </tr>\n",
       "    <tr>\n",
       "      <th>2020-01-03</th>\n",
       "      <td>210.399994</td>\n",
       "      <td>206.949997</td>\n",
       "      <td>207.210007</td>\n",
       "      <td>1578009600</td>\n",
       "      <td>0.090156</td>\n",
       "      <td>210.794776</td>\n",
       "      <td>209.224998</td>\n",
       "      <td>207.655221</td>\n",
       "      <td>209.631999</td>\n",
       "      <td>217.042583</td>\n",
       "      <td>227.120132</td>\n",
       "      <td>206.965034</td>\n",
       "      <td>211.514287</td>\n",
       "      <td>1</td>\n",
       "      <td>3.514990</td>\n",
       "      <td>2020</td>\n",
       "      <td>-0.042226</td>\n",
       "      <td>208.669998</td>\n",
       "      <td>-1.349094e-01</td>\n",
       "    </tr>\n",
       "    <tr>\n",
       "      <th>2020-01-04</th>\n",
       "      <td>211.193329</td>\n",
       "      <td>206.806666</td>\n",
       "      <td>207.040003</td>\n",
       "      <td>1578096000</td>\n",
       "      <td>0.135397</td>\n",
       "      <td>210.888098</td>\n",
       "      <td>209.476666</td>\n",
       "      <td>208.065234</td>\n",
       "      <td>209.678399</td>\n",
       "      <td>217.042583</td>\n",
       "      <td>227.120132</td>\n",
       "      <td>206.965034</td>\n",
       "      <td>211.514287</td>\n",
       "      <td>1</td>\n",
       "      <td>3.577252</td>\n",
       "      <td>2020</td>\n",
       "      <td>-0.024991</td>\n",
       "      <td>209.980001</td>\n",
       "      <td>6.540895e-01</td>\n",
       "    </tr>\n",
       "    <tr>\n",
       "      <th>2020-01-05</th>\n",
       "      <td>211.986664</td>\n",
       "      <td>206.663335</td>\n",
       "      <td>206.870000</td>\n",
       "      <td>1578182400</td>\n",
       "      <td>0.180920</td>\n",
       "      <td>212.078555</td>\n",
       "      <td>209.930000</td>\n",
       "      <td>207.781446</td>\n",
       "      <td>209.893280</td>\n",
       "      <td>217.042583</td>\n",
       "      <td>227.120132</td>\n",
       "      <td>206.965034</td>\n",
       "      <td>211.514287</td>\n",
       "      <td>1</td>\n",
       "      <td>3.701972</td>\n",
       "      <td>2020</td>\n",
       "      <td>0.038602</td>\n",
       "      <td>211.290003</td>\n",
       "      <td>1.156300e+00</td>\n",
       "    </tr>\n",
       "    <tr>\n",
       "      <th>2020-01-06</th>\n",
       "      <td>212.779999</td>\n",
       "      <td>206.520004</td>\n",
       "      <td>206.699997</td>\n",
       "      <td>1578268800</td>\n",
       "      <td>0.226725</td>\n",
       "      <td>213.491436</td>\n",
       "      <td>210.464001</td>\n",
       "      <td>207.436567</td>\n",
       "      <td>210.254176</td>\n",
       "      <td>217.042583</td>\n",
       "      <td>227.120132</td>\n",
       "      <td>206.965034</td>\n",
       "      <td>211.514287</td>\n",
       "      <td>1</td>\n",
       "      <td>3.884688</td>\n",
       "      <td>2020</td>\n",
       "      <td>0.137642</td>\n",
       "      <td>212.600006</td>\n",
       "      <td>1.607862e+00</td>\n",
       "    </tr>\n",
       "  </tbody>\n",
       "</table>\n",
       "</div>"
      ],
      "text/plain": [
       "                  high         low        open        unix  cum_change  \\\n",
       "date                                                                     \n",
       "2020-01-02  209.789993  206.270004  206.750000  1577923200    0.045198   \n",
       "2020-01-03  210.399994  206.949997  207.210007  1578009600    0.090156   \n",
       "2020-01-04  211.193329  206.806666  207.040003  1578096000    0.135397   \n",
       "2020-01-05  211.986664  206.663335  206.870000  1578182400    0.180920   \n",
       "2020-01-06  212.779999  206.520004  206.699997  1578268800    0.226725   \n",
       "\n",
       "              sma_7_up       sma_7   sma_7_low      ema_14        b_ma  \\\n",
       "date                                                                     \n",
       "2020-01-02  210.794776  209.779999  207.655221  209.779999  217.042583   \n",
       "2020-01-03  210.794776  209.224998  207.655221  209.631999  217.042583   \n",
       "2020-01-04  210.888098  209.476666  208.065234  209.678399  217.042583   \n",
       "2020-01-05  212.078555  209.930000  207.781446  209.893280  217.042583   \n",
       "2020-01-06  213.491436  210.464001  207.436567  210.254176  217.042583   \n",
       "\n",
       "                    bu          bl       cma_7  month       atr  year  \\\n",
       "date                                                                    \n",
       "2020-01-02  227.120132  206.965034  211.514287      1  3.519989  2020   \n",
       "2020-01-03  227.120132  206.965034  211.514287      1  3.514990  2020   \n",
       "2020-01-04  227.120132  206.965034  211.514287      1  3.577252  2020   \n",
       "2020-01-05  227.120132  206.965034  211.514287      1  3.701972  2020   \n",
       "2020-01-06  227.120132  206.965034  211.514287      1  3.884688  2020   \n",
       "\n",
       "                 ppo       close      residual  \n",
       "date                                            \n",
       "2020-01-02  0.000000  209.779999  2.895774e-09  \n",
       "2020-01-03 -0.042226  208.669998 -1.349094e-01  \n",
       "2020-01-04 -0.024991  209.980001  6.540895e-01  \n",
       "2020-01-05  0.038602  211.290003  1.156300e+00  \n",
       "2020-01-06  0.137642  212.600006  1.607862e+00  "
      ]
     },
     "execution_count": 17,
     "metadata": {},
     "output_type": "execute_result"
    }
   ],
   "source": [
    "df['residual'] = residual\n",
    "df.head()"
   ]
  },
  {
   "cell_type": "markdown",
   "metadata": {},
   "source": [
    "### ***Model Lstm***"
   ]
  },
  {
   "cell_type": "code",
   "execution_count": 1,
   "metadata": {},
   "outputs": [],
   "source": [
    "from sklearn.preprocessing import MinMaxScaler\n",
    "from keras.callbacks import ModelCheckpoint\n",
    "from tensorflow.keras.models import load_model \n",
    "\n",
    "from keras.models import Sequential \n",
    "from keras.layers import LSTM \n",
    "from keras.layers import Dropout \n",
    "from keras.layers import Dense\n",
    "\n",
    "from sklearn.metrics import mean_squared_error, r2_score\n",
    "from sklearn.metrics import mean_absolute_error, mean_absolute_percentage_error"
   ]
  },
  {
   "cell_type": "code",
   "execution_count": 19,
   "metadata": {},
   "outputs": [],
   "source": [
    "df1 = pd.DataFrame(df,columns=['residual'])\n",
    "df1 = df1.reset_index(drop=True)\n",
    "df1 = df1.values"
   ]
  },
  {
   "cell_type": "code",
   "execution_count": 24,
   "metadata": {},
   "outputs": [
    {
     "name": "stdout",
     "output_type": "stream",
     "text": [
      "Train shape: (1338, 1)\n",
      "Test shape: (335, 1)\n"
     ]
    }
   ],
   "source": [
    "scaler = MinMaxScaler(feature_range=(0,1))\n",
    "cut_off = int(len(df1) * split_ratio)\n",
    "train = df1[:cut_off]\n",
    "test = df1[cut_off:]\n",
    "scaled_train = scaler.fit_transform(train)\n",
    "print('Train shape:', scaled_train.shape)\n",
    "scaled_test = scaler.fit_transform(test)\n",
    "print('Test shape:', scaled_test.shape)"
   ]
  },
  {
   "cell_type": "code",
   "execution_count": 25,
   "metadata": {},
   "outputs": [],
   "source": [
    "x_train,y_train=[],[]\n",
    "for i in range(30,len(scaled_train)):\n",
    "  x_train.append(scaled_train[i-30:i,0]) \n",
    "  y_train.append(scaled_train[i,0])"
   ]
  },
  {
   "cell_type": "code",
   "execution_count": 26,
   "metadata": {},
   "outputs": [],
   "source": [
    "x_train = np.array(x_train)\n",
    "y_train = np.array(y_train)\n",
    "x_train = np.reshape(x_train,(x_train.shape[0],x_train.shape[1],1))\n",
    "y_train = np.reshape(y_train,(y_train.shape[0],1))"
   ]
  },
  {
   "cell_type": "code",
   "execution_count": 27,
   "metadata": {},
   "outputs": [],
   "source": [
    "x_test,y_test=[],[]\n",
    "for i in range(30,len(scaled_test)):\n",
    "  x_test.append(scaled_test[i-30:i,0]) \n",
    "  y_test.append(scaled_test[i,0])"
   ]
  },
  {
   "cell_type": "code",
   "execution_count": 28,
   "metadata": {},
   "outputs": [],
   "source": [
    "x_test = np.array(x_test)\n",
    "y_test = np.array(y_test)\n",
    "x_test = np.reshape(x_test,(x_test.shape[0],x_test.shape[1],1))\n",
    "y_test = np.reshape(y_test,(y_test.shape[0],1))"
   ]
  },
  {
   "cell_type": "code",
   "execution_count": 35,
   "metadata": {},
   "outputs": [],
   "source": [
    "model = Sequential() \n",
    "model.add(LSTM(units=64,input_shape=(x_train.shape[1],1),return_sequences=True))\n",
    "model.add(LSTM(units=64))\n",
    "model.add(Dense(1)) \n",
    "model.compile(loss='mean_squared_error',optimizer='adam')"
   ]
  },
  {
   "cell_type": "code",
   "execution_count": 36,
   "metadata": {},
   "outputs": [
    {
     "name": "stdout",
     "output_type": "stream",
     "text": [
      "Epoch 1/50\n",
      "\u001b[1m131/131\u001b[0m \u001b[32m━━━━━━━━━━━━━━━━━━━━\u001b[0m\u001b[37m\u001b[0m \u001b[1m4s\u001b[0m 11ms/step - loss: 0.0527\n",
      "Epoch 2/50\n",
      "\u001b[1m131/131\u001b[0m \u001b[32m━━━━━━━━━━━━━━━━━━━━\u001b[0m\u001b[37m\u001b[0m \u001b[1m2s\u001b[0m 12ms/step - loss: 0.0105\n",
      "Epoch 3/50\n",
      "\u001b[1m131/131\u001b[0m \u001b[32m━━━━━━━━━━━━━━━━━━━━\u001b[0m\u001b[37m\u001b[0m \u001b[1m2s\u001b[0m 12ms/step - loss: 0.0116\n",
      "Epoch 4/50\n",
      "\u001b[1m131/131\u001b[0m \u001b[32m━━━━━━━━━━━━━━━━━━━━\u001b[0m\u001b[37m\u001b[0m \u001b[1m1s\u001b[0m 11ms/step - loss: 0.0121\n",
      "Epoch 5/50\n",
      "\u001b[1m131/131\u001b[0m \u001b[32m━━━━━━━━━━━━━━━━━━━━\u001b[0m\u001b[37m\u001b[0m \u001b[1m2s\u001b[0m 15ms/step - loss: 0.0117\n",
      "Epoch 6/50\n",
      "\u001b[1m131/131\u001b[0m \u001b[32m━━━━━━━━━━━━━━━━━━━━\u001b[0m\u001b[37m\u001b[0m \u001b[1m2s\u001b[0m 14ms/step - loss: 0.0126\n",
      "Epoch 7/50\n",
      "\u001b[1m131/131\u001b[0m \u001b[32m━━━━━━━━━━━━━━━━━━━━\u001b[0m\u001b[37m\u001b[0m \u001b[1m2s\u001b[0m 13ms/step - loss: 0.0099\n",
      "Epoch 8/50\n",
      "\u001b[1m131/131\u001b[0m \u001b[32m━━━━━━━━━━━━━━━━━━━━\u001b[0m\u001b[37m\u001b[0m \u001b[1m1s\u001b[0m 11ms/step - loss: 0.0124\n",
      "Epoch 9/50\n",
      "\u001b[1m131/131\u001b[0m \u001b[32m━━━━━━━━━━━━━━━━━━━━\u001b[0m\u001b[37m\u001b[0m \u001b[1m2s\u001b[0m 12ms/step - loss: 0.0103\n",
      "Epoch 10/50\n",
      "\u001b[1m131/131\u001b[0m \u001b[32m━━━━━━━━━━━━━━━━━━━━\u001b[0m\u001b[37m\u001b[0m \u001b[1m2s\u001b[0m 13ms/step - loss: 0.0106\n",
      "Epoch 11/50\n",
      "\u001b[1m131/131\u001b[0m \u001b[32m━━━━━━━━━━━━━━━━━━━━\u001b[0m\u001b[37m\u001b[0m \u001b[1m2s\u001b[0m 12ms/step - loss: 0.0111\n",
      "Epoch 12/50\n",
      "\u001b[1m131/131\u001b[0m \u001b[32m━━━━━━━━━━━━━━━━━━━━\u001b[0m\u001b[37m\u001b[0m \u001b[1m1s\u001b[0m 11ms/step - loss: 0.0108\n",
      "Epoch 13/50\n",
      "\u001b[1m131/131\u001b[0m \u001b[32m━━━━━━━━━━━━━━━━━━━━\u001b[0m\u001b[37m\u001b[0m \u001b[1m2s\u001b[0m 12ms/step - loss: 0.0111\n",
      "Epoch 14/50\n",
      "\u001b[1m131/131\u001b[0m \u001b[32m━━━━━━━━━━━━━━━━━━━━\u001b[0m\u001b[37m\u001b[0m \u001b[1m2s\u001b[0m 14ms/step - loss: 0.0120\n",
      "Epoch 15/50\n",
      "\u001b[1m131/131\u001b[0m \u001b[32m━━━━━━━━━━━━━━━━━━━━\u001b[0m\u001b[37m\u001b[0m \u001b[1m2s\u001b[0m 12ms/step - loss: 0.0103\n",
      "Epoch 16/50\n",
      "\u001b[1m131/131\u001b[0m \u001b[32m━━━━━━━━━━━━━━━━━━━━\u001b[0m\u001b[37m\u001b[0m \u001b[1m2s\u001b[0m 12ms/step - loss: 0.0102\n",
      "Epoch 17/50\n",
      "\u001b[1m131/131\u001b[0m \u001b[32m━━━━━━━━━━━━━━━━━━━━\u001b[0m\u001b[37m\u001b[0m \u001b[1m1s\u001b[0m 11ms/step - loss: 0.0104\n",
      "Epoch 18/50\n",
      "\u001b[1m131/131\u001b[0m \u001b[32m━━━━━━━━━━━━━━━━━━━━\u001b[0m\u001b[37m\u001b[0m \u001b[1m1s\u001b[0m 11ms/step - loss: 0.0107\n",
      "Epoch 19/50\n",
      "\u001b[1m131/131\u001b[0m \u001b[32m━━━━━━━━━━━━━━━━━━━━\u001b[0m\u001b[37m\u001b[0m \u001b[1m1s\u001b[0m 11ms/step - loss: 0.0117\n",
      "Epoch 20/50\n",
      "\u001b[1m131/131\u001b[0m \u001b[32m━━━━━━━━━━━━━━━━━━━━\u001b[0m\u001b[37m\u001b[0m \u001b[1m2s\u001b[0m 12ms/step - loss: 0.0114\n",
      "Epoch 21/50\n",
      "\u001b[1m131/131\u001b[0m \u001b[32m━━━━━━━━━━━━━━━━━━━━\u001b[0m\u001b[37m\u001b[0m \u001b[1m1s\u001b[0m 11ms/step - loss: 0.0124\n",
      "Epoch 22/50\n",
      "\u001b[1m131/131\u001b[0m \u001b[32m━━━━━━━━━━━━━━━━━━━━\u001b[0m\u001b[37m\u001b[0m \u001b[1m2s\u001b[0m 11ms/step - loss: 0.0122\n",
      "Epoch 23/50\n",
      "\u001b[1m131/131\u001b[0m \u001b[32m━━━━━━━━━━━━━━━━━━━━\u001b[0m\u001b[37m\u001b[0m \u001b[1m2s\u001b[0m 12ms/step - loss: 0.0121\n",
      "Epoch 24/50\n",
      "\u001b[1m131/131\u001b[0m \u001b[32m━━━━━━━━━━━━━━━━━━━━\u001b[0m\u001b[37m\u001b[0m \u001b[1m2s\u001b[0m 12ms/step - loss: 0.0104\n",
      "Epoch 25/50\n",
      "\u001b[1m131/131\u001b[0m \u001b[32m━━━━━━━━━━━━━━━━━━━━\u001b[0m\u001b[37m\u001b[0m \u001b[1m2s\u001b[0m 12ms/step - loss: 0.0111\n",
      "Epoch 26/50\n",
      "\u001b[1m131/131\u001b[0m \u001b[32m━━━━━━━━━━━━━━━━━━━━\u001b[0m\u001b[37m\u001b[0m \u001b[1m2s\u001b[0m 12ms/step - loss: 0.0108\n",
      "Epoch 27/50\n",
      "\u001b[1m131/131\u001b[0m \u001b[32m━━━━━━━━━━━━━━━━━━━━\u001b[0m\u001b[37m\u001b[0m \u001b[1m2s\u001b[0m 13ms/step - loss: 0.0117\n",
      "Epoch 28/50\n",
      "\u001b[1m131/131\u001b[0m \u001b[32m━━━━━━━━━━━━━━━━━━━━\u001b[0m\u001b[37m\u001b[0m \u001b[1m2s\u001b[0m 12ms/step - loss: 0.0104\n",
      "Epoch 29/50\n",
      "\u001b[1m131/131\u001b[0m \u001b[32m━━━━━━━━━━━━━━━━━━━━\u001b[0m\u001b[37m\u001b[0m \u001b[1m2s\u001b[0m 13ms/step - loss: 0.0100\n",
      "Epoch 30/50\n",
      "\u001b[1m131/131\u001b[0m \u001b[32m━━━━━━━━━━━━━━━━━━━━\u001b[0m\u001b[37m\u001b[0m \u001b[1m2s\u001b[0m 12ms/step - loss: 0.0104\n",
      "Epoch 31/50\n",
      "\u001b[1m131/131\u001b[0m \u001b[32m━━━━━━━━━━━━━━━━━━━━\u001b[0m\u001b[37m\u001b[0m \u001b[1m2s\u001b[0m 14ms/step - loss: 0.0108\n",
      "Epoch 32/50\n",
      "\u001b[1m131/131\u001b[0m \u001b[32m━━━━━━━━━━━━━━━━━━━━\u001b[0m\u001b[37m\u001b[0m \u001b[1m1s\u001b[0m 11ms/step - loss: 0.0124\n",
      "Epoch 33/50\n",
      "\u001b[1m131/131\u001b[0m \u001b[32m━━━━━━━━━━━━━━━━━━━━\u001b[0m\u001b[37m\u001b[0m \u001b[1m2s\u001b[0m 12ms/step - loss: 0.0112\n",
      "Epoch 34/50\n",
      "\u001b[1m131/131\u001b[0m \u001b[32m━━━━━━━━━━━━━━━━━━━━\u001b[0m\u001b[37m\u001b[0m \u001b[1m2s\u001b[0m 11ms/step - loss: 0.0110\n",
      "Epoch 35/50\n",
      "\u001b[1m131/131\u001b[0m \u001b[32m━━━━━━━━━━━━━━━━━━━━\u001b[0m\u001b[37m\u001b[0m \u001b[1m1s\u001b[0m 11ms/step - loss: 0.0112\n",
      "Epoch 36/50\n",
      "\u001b[1m131/131\u001b[0m \u001b[32m━━━━━━━━━━━━━━━━━━━━\u001b[0m\u001b[37m\u001b[0m \u001b[1m1s\u001b[0m 11ms/step - loss: 0.0118\n",
      "Epoch 37/50\n",
      "\u001b[1m131/131\u001b[0m \u001b[32m━━━━━━━━━━━━━━━━━━━━\u001b[0m\u001b[37m\u001b[0m \u001b[1m1s\u001b[0m 11ms/step - loss: 0.0102\n",
      "Epoch 38/50\n",
      "\u001b[1m131/131\u001b[0m \u001b[32m━━━━━━━━━━━━━━━━━━━━\u001b[0m\u001b[37m\u001b[0m \u001b[1m2s\u001b[0m 12ms/step - loss: 0.0107\n",
      "Epoch 39/50\n",
      "\u001b[1m131/131\u001b[0m \u001b[32m━━━━━━━━━━━━━━━━━━━━\u001b[0m\u001b[37m\u001b[0m \u001b[1m2s\u001b[0m 13ms/step - loss: 0.0111\n",
      "Epoch 40/50\n",
      "\u001b[1m131/131\u001b[0m \u001b[32m━━━━━━━━━━━━━━━━━━━━\u001b[0m\u001b[37m\u001b[0m \u001b[1m2s\u001b[0m 13ms/step - loss: 0.0120\n",
      "Epoch 41/50\n",
      "\u001b[1m131/131\u001b[0m \u001b[32m━━━━━━━━━━━━━━━━━━━━\u001b[0m\u001b[37m\u001b[0m \u001b[1m2s\u001b[0m 15ms/step - loss: 0.0111\n",
      "Epoch 42/50\n",
      "\u001b[1m131/131\u001b[0m \u001b[32m━━━━━━━━━━━━━━━━━━━━\u001b[0m\u001b[37m\u001b[0m \u001b[1m2s\u001b[0m 13ms/step - loss: 0.0102\n",
      "Epoch 43/50\n",
      "\u001b[1m131/131\u001b[0m \u001b[32m━━━━━━━━━━━━━━━━━━━━\u001b[0m\u001b[37m\u001b[0m \u001b[1m2s\u001b[0m 13ms/step - loss: 0.0105\n",
      "Epoch 44/50\n",
      "\u001b[1m131/131\u001b[0m \u001b[32m━━━━━━━━━━━━━━━━━━━━\u001b[0m\u001b[37m\u001b[0m \u001b[1m2s\u001b[0m 15ms/step - loss: 0.0113\n",
      "Epoch 45/50\n",
      "\u001b[1m131/131\u001b[0m \u001b[32m━━━━━━━━━━━━━━━━━━━━\u001b[0m\u001b[37m\u001b[0m \u001b[1m2s\u001b[0m 13ms/step - loss: 0.0118\n",
      "Epoch 46/50\n",
      "\u001b[1m131/131\u001b[0m \u001b[32m━━━━━━━━━━━━━━━━━━━━\u001b[0m\u001b[37m\u001b[0m \u001b[1m2s\u001b[0m 13ms/step - loss: 0.0108\n",
      "Epoch 47/50\n",
      "\u001b[1m131/131\u001b[0m \u001b[32m━━━━━━━━━━━━━━━━━━━━\u001b[0m\u001b[37m\u001b[0m \u001b[1m2s\u001b[0m 14ms/step - loss: 0.0114\n",
      "Epoch 48/50\n",
      "\u001b[1m131/131\u001b[0m \u001b[32m━━━━━━━━━━━━━━━━━━━━\u001b[0m\u001b[37m\u001b[0m \u001b[1m2s\u001b[0m 12ms/step - loss: 0.0106\n",
      "Epoch 49/50\n",
      "\u001b[1m131/131\u001b[0m \u001b[32m━━━━━━━━━━━━━━━━━━━━\u001b[0m\u001b[37m\u001b[0m \u001b[1m2s\u001b[0m 12ms/step - loss: 0.0120\n",
      "Epoch 50/50\n",
      "\u001b[1m131/131\u001b[0m \u001b[32m━━━━━━━━━━━━━━━━━━━━\u001b[0m\u001b[37m\u001b[0m \u001b[1m2s\u001b[0m 13ms/step - loss: 0.0113\n"
     ]
    }
   ],
   "source": [
    "lstm_history = model.fit(x_train,y_train,epochs=50,batch_size=10,verbose=1,callbacks=None)"
   ]
  },
  {
   "cell_type": "code",
   "execution_count": 51,
   "metadata": {},
   "outputs": [
    {
     "name": "stdout",
     "output_type": "stream",
     "text": [
      "\u001b[1m10/10\u001b[0m \u001b[32m━━━━━━━━━━━━━━━━━━━━\u001b[0m\u001b[37m\u001b[0m \u001b[1m0s\u001b[0m 8ms/step\n"
     ]
    }
   ],
   "source": [
    "lstm_predictions = model.predict(x_test)\n",
    "residul_pre= scaler.inverse_transform(lstm_predictions)"
   ]
  },
  {
   "cell_type": "code",
   "execution_count": 52,
   "metadata": {},
   "outputs": [
    {
     "data": {
      "text/plain": [
       "(305, 1)"
      ]
     },
     "execution_count": 52,
     "metadata": {},
     "output_type": "execute_result"
    }
   ],
   "source": [
    "residul_pre.shape"
   ]
  },
  {
   "cell_type": "code",
   "execution_count": 53,
   "metadata": {},
   "outputs": [
    {
     "name": "stdout",
     "output_type": "stream",
     "text": [
      "(335,)\n",
      "(305, 1)\n"
     ]
    }
   ],
   "source": [
    "print(forecasts.shape)\n",
    "print(residul_pre.shape)"
   ]
  },
  {
   "cell_type": "code",
   "execution_count": 61,
   "metadata": {},
   "outputs": [
    {
     "data": {
      "text/plain": [
       "2023-09-01    296.451025\n",
       "2023-09-02    298.060407\n",
       "2023-09-03    299.298263\n",
       "2023-09-04    299.804800\n",
       "2023-09-05    300.393652\n",
       "                 ...    \n",
       "2024-07-27    466.275000\n",
       "2024-07-28    468.177373\n",
       "2024-07-29    470.352216\n",
       "2024-07-30    465.731072\n",
       "2024-07-31    474.137413\n",
       "Freq: D, Name: predicted_mean, Length: 335, dtype: float64"
      ]
     },
     "execution_count": 61,
     "metadata": {},
     "output_type": "execute_result"
    }
   ],
   "source": [
    "forecasts"
   ]
  },
  {
   "cell_type": "code",
   "execution_count": 70,
   "metadata": {},
   "outputs": [],
   "source": [
    "residul_pre_series = pd.Series(residul_pre.flatten(), index=forecasts.index[30:30+len(residul_pre)])"
   ]
  },
  {
   "cell_type": "code",
   "execution_count": 72,
   "metadata": {},
   "outputs": [],
   "source": [
    "forecasts.iloc[30:] += residul_pre_series"
   ]
  },
  {
   "cell_type": "code",
   "execution_count": 73,
   "metadata": {},
   "outputs": [
    {
     "data": {
      "text/plain": [
       "2023-09-01    296.451025\n",
       "2023-09-02    298.060407\n",
       "2023-09-03    299.298263\n",
       "2023-09-04    299.804800\n",
       "2023-09-05    300.393652\n",
       "                 ...    \n",
       "2024-07-27    463.887969\n",
       "2024-07-28    465.818913\n",
       "2024-07-29    467.967027\n",
       "2024-07-30    463.261642\n",
       "2024-07-31    471.548689\n",
       "Freq: D, Name: predicted_mean, Length: 335, dtype: float64"
      ]
     },
     "execution_count": 73,
     "metadata": {},
     "output_type": "execute_result"
    }
   ],
   "source": [
    "forecasts"
   ]
  },
  {
   "cell_type": "code",
   "execution_count": 74,
   "metadata": {},
   "outputs": [],
   "source": [
    "rmse = np.sqrt(mean_squared_error(y_test_sarimax, forecasts))\n",
    "# cv_rmse = cross_val_sarimax(data, orders, seasonal_orders)\n",
    "r2 = r2_score(y_test_sarimax, forecasts)\n",
    "mae = mean_absolute_error(y_test_sarimax, forecasts)\n",
    "mape = mean_absolute_percentage_error(y_test_sarimax, forecasts)"
   ]
  },
  {
   "cell_type": "code",
   "execution_count": 75,
   "metadata": {},
   "outputs": [
    {
     "name": "stdout",
     "output_type": "stream",
     "text": [
      "Testing performance:\n",
      "--------------------\n",
      "RMSE: 3.3067\n",
      "R2: 0.9984\n",
      "MAE: 2.6825\n",
      "MAPE: 0.0065%\n"
     ]
    }
   ],
   "source": [
    "print('Testing performance:')\n",
    "print('--------------------')\n",
    "print('RMSE: {:.4f}'.format(rmse))\n",
    "# print('6-fold CV: {:.4f}'.format(cv_rmse))\n",
    "print('R2: {:.4f}'.format(r2))\n",
    "print('MAE: {:.4f}'.format(mae))\n",
    "print('MAPE: {:.4f}%'.format(mape))"
   ]
  },
  {
   "cell_type": "code",
   "execution_count": null,
   "metadata": {},
   "outputs": [],
   "source": []
  }
 ],
 "metadata": {
  "kernelspec": {
   "display_name": "Python 3",
   "language": "python",
   "name": "python3"
  },
  "language_info": {
   "codemirror_mode": {
    "name": "ipython",
    "version": 3
   },
   "file_extension": ".py",
   "mimetype": "text/x-python",
   "name": "python",
   "nbconvert_exporter": "python",
   "pygments_lexer": "ipython3",
   "version": "3.12.3"
  }
 },
 "nbformat": 4,
 "nbformat_minor": 2
}
